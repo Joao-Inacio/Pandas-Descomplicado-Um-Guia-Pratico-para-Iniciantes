{
 "cells": [
  {
   "cell_type": "markdown",
   "id": "84329601",
   "metadata": {},
   "source": [
    "# **Series**"
   ]
  },
  {
   "cell_type": "code",
   "execution_count": 1,
   "id": "f63088fd",
   "metadata": {},
   "outputs": [],
   "source": [
    "import pandas as pd\n",
    "import numpy as np"
   ]
  },
  {
   "cell_type": "code",
   "execution_count": 2,
   "id": "af8931ae",
   "metadata": {},
   "outputs": [
    {
     "data": {
      "text/plain": [
       "('2.3.3', '2.3.4')"
      ]
     },
     "execution_count": 2,
     "metadata": {},
     "output_type": "execute_result"
    }
   ],
   "source": [
    "pd.__version__, np.__version__"
   ]
  },
  {
   "cell_type": "code",
   "execution_count": 3,
   "id": "5c9c6998",
   "metadata": {},
   "outputs": [
    {
     "data": {
      "text/plain": [
       "0    10\n",
       "1    20\n",
       "2    30\n",
       "3    40\n",
       "4    50\n",
       "dtype: int64"
      ]
     },
     "execution_count": 3,
     "metadata": {},
     "output_type": "execute_result"
    }
   ],
   "source": [
    "serie_dados = pd.Series([10, 20, 30, 40, 50])\n",
    "serie_dados"
   ]
  },
  {
   "cell_type": "code",
   "execution_count": 4,
   "id": "bafd6568",
   "metadata": {},
   "outputs": [
    {
     "data": {
      "text/plain": [
       "pandas.core.series.Series"
      ]
     },
     "execution_count": 4,
     "metadata": {},
     "output_type": "execute_result"
    }
   ],
   "source": [
    "type(serie_dados)"
   ]
  },
  {
   "cell_type": "code",
   "execution_count": 5,
   "id": "cd2896a1",
   "metadata": {},
   "outputs": [
    {
     "data": {
      "text/plain": [
       "A    10\n",
       "B    20\n",
       "C    30\n",
       "D    40\n",
       "E    50\n",
       "dtype: int64"
      ]
     },
     "execution_count": 5,
     "metadata": {},
     "output_type": "execute_result"
    }
   ],
   "source": [
    "array_inteiros = [10, 20, 30, 40, 50]\n",
    "indices = ['A', 'B', 'C', 'D', 'E']\n",
    "serie_dados = pd.Series(array_inteiros, index=indices)\n",
    "serie_dados"
   ]
  },
  {
   "cell_type": "code",
   "execution_count": 6,
   "id": "dc647b99",
   "metadata": {},
   "outputs": [
    {
     "data": {
      "text/plain": [
       "array([10, 20, 30, 40, 50])"
      ]
     },
     "execution_count": 6,
     "metadata": {},
     "output_type": "execute_result"
    }
   ],
   "source": [
    "np_array_inteiros = np.array([10, 20, 30, 40, 50])\n",
    "np_array_inteiros"
   ]
  },
  {
   "cell_type": "code",
   "execution_count": 7,
   "id": "a009a82b",
   "metadata": {},
   "outputs": [
    {
     "data": {
      "text/plain": [
       "numpy.ndarray"
      ]
     },
     "execution_count": 7,
     "metadata": {},
     "output_type": "execute_result"
    }
   ],
   "source": [
    "type(np_array_inteiros)"
   ]
  },
  {
   "cell_type": "code",
   "execution_count": 8,
   "id": "34aff4ab",
   "metadata": {},
   "outputs": [
    {
     "data": {
      "text/plain": [
       "0    10\n",
       "1    20\n",
       "2    30\n",
       "3    40\n",
       "4    50\n",
       "dtype: int64"
      ]
     },
     "execution_count": 8,
     "metadata": {},
     "output_type": "execute_result"
    }
   ],
   "source": [
    "serie_dados = pd.Series(array_inteiros)\n",
    "serie_dados"
   ]
  },
  {
   "cell_type": "code",
   "execution_count": 9,
   "id": "e69e9e69",
   "metadata": {},
   "outputs": [
    {
     "data": {
      "text/plain": [
       "(5,)"
      ]
     },
     "execution_count": 9,
     "metadata": {},
     "output_type": "execute_result"
    }
   ],
   "source": [
    "serie_dados.shape"
   ]
  },
  {
   "cell_type": "code",
   "execution_count": 10,
   "id": "b3afb29f",
   "metadata": {},
   "outputs": [
    {
     "data": {
      "text/plain": [
       "1"
      ]
     },
     "execution_count": 10,
     "metadata": {},
     "output_type": "execute_result"
    }
   ],
   "source": [
    "serie_dados.ndim"
   ]
  },
  {
   "cell_type": "code",
   "execution_count": 11,
   "id": "13803f2a",
   "metadata": {},
   "outputs": [
    {
     "data": {
      "text/plain": [
       "5"
      ]
     },
     "execution_count": 11,
     "metadata": {},
     "output_type": "execute_result"
    }
   ],
   "source": [
    "serie_dados.size"
   ]
  },
  {
   "cell_type": "code",
   "execution_count": 12,
   "id": "1e55e799",
   "metadata": {},
   "outputs": [
    {
     "data": {
      "text/plain": [
       "0    10\n",
       "1    20\n",
       "2    30\n",
       "3    40\n",
       "4    50\n",
       "dtype: int64"
      ]
     },
     "execution_count": 12,
     "metadata": {},
     "output_type": "execute_result"
    }
   ],
   "source": [
    "serie_dados"
   ]
  },
  {
   "cell_type": "code",
   "execution_count": 13,
   "id": "d9d19805",
   "metadata": {},
   "outputs": [
    {
     "data": {
      "text/plain": [
       "Z    10\n",
       "X    20\n",
       "V    30\n",
       "A    40\n",
       "B    50\n",
       "dtype: int64"
      ]
     },
     "execution_count": 13,
     "metadata": {},
     "output_type": "execute_result"
    }
   ],
   "source": [
    "serie_dados.index = ['Z', 'X', 'V', 'A', 'B']\n",
    "serie_dados"
   ]
  },
  {
   "cell_type": "code",
   "execution_count": 14,
   "id": "15eff3da",
   "metadata": {},
   "outputs": [
    {
     "data": {
      "text/plain": [
       "(array([0.51737087, 0.31745451, 0.67399933, 0.64133482, 0.19836928,\n",
       "        0.45713861, 0.43834196, 0.58755748, 0.87332264, 0.80703783]),\n",
       " array([0, 1, 2, 3, 4, 5, 6, 7, 8, 9]))"
      ]
     },
     "execution_count": 14,
     "metadata": {},
     "output_type": "execute_result"
    }
   ],
   "source": [
    "valores = np.random.random(10)\n",
    "indexes = np.arange(0, 10)\n",
    "valores, indexes"
   ]
  },
  {
   "cell_type": "code",
   "execution_count": 15,
   "id": "e668ac23",
   "metadata": {},
   "outputs": [
    {
     "data": {
      "text/plain": [
       "0    0.517371\n",
       "1    0.317455\n",
       "2    0.673999\n",
       "3    0.641335\n",
       "4    0.198369\n",
       "5    0.457139\n",
       "6    0.438342\n",
       "7    0.587557\n",
       "8    0.873323\n",
       "9    0.807038\n",
       "dtype: float64"
      ]
     },
     "execution_count": 15,
     "metadata": {},
     "output_type": "execute_result"
    }
   ],
   "source": [
    "serie_dados = pd.Series(valores, index=indexes)\n",
    "serie_dados"
   ]
  },
  {
   "cell_type": "code",
   "execution_count": 16,
   "id": "1c8c751e",
   "metadata": {},
   "outputs": [
    {
     "data": {
      "text/plain": [
       "dict"
      ]
     },
     "execution_count": 16,
     "metadata": {},
     "output_type": "execute_result"
    }
   ],
   "source": [
    "dicionario = {'João': 10, 'Alice': 5, 'Gustavo': 6, 'Pedro': 9}\n",
    "type(dicionario)"
   ]
  },
  {
   "cell_type": "code",
   "execution_count": 17,
   "id": "0dc2f4f3",
   "metadata": {},
   "outputs": [
    {
     "data": {
      "text/plain": [
       "{'João': 10, 'Alice': 5, 'Gustavo': 6, 'Pedro': 9}"
      ]
     },
     "execution_count": 17,
     "metadata": {},
     "output_type": "execute_result"
    }
   ],
   "source": [
    "dicionario"
   ]
  },
  {
   "cell_type": "code",
   "execution_count": 18,
   "id": "ae44396c",
   "metadata": {},
   "outputs": [
    {
     "data": {
      "text/plain": [
       "João       10\n",
       "Alice       5\n",
       "Gustavo     6\n",
       "Pedro       9\n",
       "dtype: int64"
      ]
     },
     "execution_count": 18,
     "metadata": {},
     "output_type": "execute_result"
    }
   ],
   "source": [
    "dict_serie_dados = pd.Series(dicionario)\n",
    "dict_serie_dados"
   ]
  },
  {
   "cell_type": "code",
   "execution_count": 19,
   "id": "4771a3f6",
   "metadata": {},
   "outputs": [
    {
     "data": {
      "text/plain": [
       "dtype('int64')"
      ]
     },
     "execution_count": 19,
     "metadata": {},
     "output_type": "execute_result"
    }
   ],
   "source": [
    "dict_serie_dados.dtype"
   ]
  },
  {
   "cell_type": "markdown",
   "id": "33e7552a",
   "metadata": {},
   "source": [
    "## Fatiamento (slicing)"
   ]
  },
  {
   "cell_type": "code",
   "execution_count": 20,
   "id": "e3b885a6",
   "metadata": {},
   "outputs": [
    {
     "data": {
      "text/plain": [
       "0    0.517371\n",
       "1    0.317455\n",
       "2    0.673999\n",
       "3    0.641335\n",
       "4    0.198369\n",
       "5    0.457139\n",
       "6    0.438342\n",
       "7    0.587557\n",
       "8    0.873323\n",
       "9    0.807038\n",
       "dtype: float64"
      ]
     },
     "execution_count": 20,
     "metadata": {},
     "output_type": "execute_result"
    }
   ],
   "source": [
    "serie_dados"
   ]
  },
  {
   "cell_type": "code",
   "execution_count": 21,
   "id": "dafcaed7",
   "metadata": {},
   "outputs": [
    {
     "data": {
      "text/plain": [
       "0    0.517371\n",
       "1    0.317455\n",
       "2    0.673999\n",
       "dtype: float64"
      ]
     },
     "execution_count": 21,
     "metadata": {},
     "output_type": "execute_result"
    }
   ],
   "source": [
    "serie_dados[0:3]"
   ]
  },
  {
   "cell_type": "code",
   "execution_count": 22,
   "id": "3750f416",
   "metadata": {},
   "outputs": [
    {
     "data": {
      "text/plain": [
       "0    0.517371\n",
       "1    0.317455\n",
       "2    0.673999\n",
       "3    0.641335\n",
       "dtype: float64"
      ]
     },
     "execution_count": 22,
     "metadata": {},
     "output_type": "execute_result"
    }
   ],
   "source": [
    "serie_dados[:4]"
   ]
  },
  {
   "cell_type": "code",
   "execution_count": 23,
   "id": "3efe53dc",
   "metadata": {},
   "outputs": [
    {
     "data": {
      "text/plain": [
       "9    0.807038\n",
       "dtype: float64"
      ]
     },
     "execution_count": 23,
     "metadata": {},
     "output_type": "execute_result"
    }
   ],
   "source": [
    "serie_dados[-1:]"
   ]
  },
  {
   "cell_type": "code",
   "execution_count": 24,
   "id": "7b9b98ba",
   "metadata": {},
   "outputs": [
    {
     "data": {
      "text/plain": [
       "0    0.517371\n",
       "1    0.317455\n",
       "2    0.673999\n",
       "3    0.641335\n",
       "4    0.198369\n",
       "5    0.457139\n",
       "6    0.438342\n",
       "7    0.587557\n",
       "8    0.873323\n",
       "dtype: float64"
      ]
     },
     "execution_count": 24,
     "metadata": {},
     "output_type": "execute_result"
    }
   ],
   "source": [
    "serie_dados[:-1]"
   ]
  },
  {
   "cell_type": "code",
   "execution_count": 25,
   "id": "27198ada",
   "metadata": {},
   "outputs": [
    {
     "data": {
      "text/plain": [
       "0    0.517371\n",
       "1    0.317455\n",
       "2    0.673999\n",
       "dtype: float64"
      ]
     },
     "execution_count": 25,
     "metadata": {},
     "output_type": "execute_result"
    }
   ],
   "source": [
    "s2 = serie_dados[:3]\n",
    "s2"
   ]
  }
 ],
 "metadata": {
  "kernelspec": {
   "display_name": ".venv",
   "language": "python",
   "name": "python3"
  },
  "language_info": {
   "codemirror_mode": {
    "name": "ipython",
    "version": 3
   },
   "file_extension": ".py",
   "mimetype": "text/x-python",
   "name": "python",
   "nbconvert_exporter": "python",
   "pygments_lexer": "ipython3",
   "version": "3.12.12"
  }
 },
 "nbformat": 4,
 "nbformat_minor": 5
}
