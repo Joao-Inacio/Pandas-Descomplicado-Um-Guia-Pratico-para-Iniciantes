{
 "cells": [
  {
   "cell_type": "markdown",
   "id": "84329601",
   "metadata": {},
   "source": [
    "# **Series**"
   ]
  },
  {
   "cell_type": "code",
   "execution_count": 1,
   "id": "f63088fd",
   "metadata": {},
   "outputs": [],
   "source": [
    "import pandas as pd\n",
    "import numpy as np"
   ]
  },
  {
   "cell_type": "code",
   "execution_count": 2,
   "id": "af8931ae",
   "metadata": {},
   "outputs": [
    {
     "data": {
      "text/plain": [
       "('2.3.3', '2.3.4')"
      ]
     },
     "execution_count": 2,
     "metadata": {},
     "output_type": "execute_result"
    }
   ],
   "source": [
    "pd.__version__, np.__version__"
   ]
  },
  {
   "cell_type": "code",
   "execution_count": 3,
   "id": "5c9c6998",
   "metadata": {},
   "outputs": [
    {
     "data": {
      "text/plain": [
       "0    10\n",
       "1    20\n",
       "2    30\n",
       "3    40\n",
       "4    50\n",
       "dtype: int64"
      ]
     },
     "execution_count": 3,
     "metadata": {},
     "output_type": "execute_result"
    }
   ],
   "source": [
    "serie_dados = pd.Series([10, 20, 30, 40, 50])\n",
    "serie_dados"
   ]
  },
  {
   "cell_type": "code",
   "execution_count": 4,
   "id": "bafd6568",
   "metadata": {},
   "outputs": [
    {
     "data": {
      "text/plain": [
       "pandas.core.series.Series"
      ]
     },
     "execution_count": 4,
     "metadata": {},
     "output_type": "execute_result"
    }
   ],
   "source": [
    "type(serie_dados)"
   ]
  },
  {
   "cell_type": "code",
   "execution_count": 5,
   "id": "cd2896a1",
   "metadata": {},
   "outputs": [
    {
     "data": {
      "text/plain": [
       "A    10\n",
       "B    20\n",
       "C    30\n",
       "D    40\n",
       "E    50\n",
       "dtype: int64"
      ]
     },
     "execution_count": 5,
     "metadata": {},
     "output_type": "execute_result"
    }
   ],
   "source": [
    "array_inteiros = [10, 20, 30, 40, 50]\n",
    "indices = ['A', 'B', 'C', 'D', 'E']\n",
    "serie_dados = pd.Series(array_inteiros, index=indices)\n",
    "serie_dados"
   ]
  },
  {
   "cell_type": "code",
   "execution_count": 6,
   "id": "dc647b99",
   "metadata": {},
   "outputs": [
    {
     "data": {
      "text/plain": [
       "array([10, 20, 30, 40, 50])"
      ]
     },
     "execution_count": 6,
     "metadata": {},
     "output_type": "execute_result"
    }
   ],
   "source": [
    "np_array_inteiros = np.array([10, 20, 30, 40, 50])\n",
    "np_array_inteiros"
   ]
  },
  {
   "cell_type": "code",
   "execution_count": 7,
   "id": "a009a82b",
   "metadata": {},
   "outputs": [
    {
     "data": {
      "text/plain": [
       "numpy.ndarray"
      ]
     },
     "execution_count": 7,
     "metadata": {},
     "output_type": "execute_result"
    }
   ],
   "source": [
    "type(np_array_inteiros)"
   ]
  },
  {
   "cell_type": "code",
   "execution_count": 8,
   "id": "34aff4ab",
   "metadata": {},
   "outputs": [
    {
     "data": {
      "text/plain": [
       "0    10\n",
       "1    20\n",
       "2    30\n",
       "3    40\n",
       "4    50\n",
       "dtype: int64"
      ]
     },
     "execution_count": 8,
     "metadata": {},
     "output_type": "execute_result"
    }
   ],
   "source": [
    "serie_dados = pd.Series(array_inteiros)\n",
    "serie_dados"
   ]
  },
  {
   "cell_type": "code",
   "execution_count": 9,
   "id": "e69e9e69",
   "metadata": {},
   "outputs": [
    {
     "data": {
      "text/plain": [
       "(5,)"
      ]
     },
     "execution_count": 9,
     "metadata": {},
     "output_type": "execute_result"
    }
   ],
   "source": [
    "serie_dados.shape"
   ]
  },
  {
   "cell_type": "code",
   "execution_count": 10,
   "id": "b3afb29f",
   "metadata": {},
   "outputs": [
    {
     "data": {
      "text/plain": [
       "1"
      ]
     },
     "execution_count": 10,
     "metadata": {},
     "output_type": "execute_result"
    }
   ],
   "source": [
    "serie_dados.ndim"
   ]
  },
  {
   "cell_type": "code",
   "execution_count": 11,
   "id": "13803f2a",
   "metadata": {},
   "outputs": [
    {
     "data": {
      "text/plain": [
       "5"
      ]
     },
     "execution_count": 11,
     "metadata": {},
     "output_type": "execute_result"
    }
   ],
   "source": [
    "serie_dados.size"
   ]
  },
  {
   "cell_type": "code",
   "execution_count": 12,
   "id": "1e55e799",
   "metadata": {},
   "outputs": [
    {
     "data": {
      "text/plain": [
       "0    10\n",
       "1    20\n",
       "2    30\n",
       "3    40\n",
       "4    50\n",
       "dtype: int64"
      ]
     },
     "execution_count": 12,
     "metadata": {},
     "output_type": "execute_result"
    }
   ],
   "source": [
    "serie_dados"
   ]
  },
  {
   "cell_type": "code",
   "execution_count": 13,
   "id": "d9d19805",
   "metadata": {},
   "outputs": [
    {
     "data": {
      "text/plain": [
       "Z    10\n",
       "X    20\n",
       "V    30\n",
       "A    40\n",
       "B    50\n",
       "dtype: int64"
      ]
     },
     "execution_count": 13,
     "metadata": {},
     "output_type": "execute_result"
    }
   ],
   "source": [
    "serie_dados.index = ['Z', 'X', 'V', 'A', 'B']\n",
    "serie_dados"
   ]
  },
  {
   "cell_type": "code",
   "execution_count": 14,
   "id": "15eff3da",
   "metadata": {},
   "outputs": [
    {
     "data": {
      "text/plain": [
       "(array([0.19084048, 0.31184139, 0.96291758, 0.05971446, 0.08579104,\n",
       "        0.91279489, 0.50663863, 0.12626925, 0.12067123, 0.45941723]),\n",
       " array([0, 1, 2, 3, 4, 5, 6, 7, 8, 9]))"
      ]
     },
     "execution_count": 14,
     "metadata": {},
     "output_type": "execute_result"
    }
   ],
   "source": [
    "valores = np.random.random(10)\n",
    "indexes = np.arange(0, 10)\n",
    "valores, indexes"
   ]
  },
  {
   "cell_type": "code",
   "execution_count": 15,
   "id": "e668ac23",
   "metadata": {},
   "outputs": [
    {
     "data": {
      "text/plain": [
       "0    0.190840\n",
       "1    0.311841\n",
       "2    0.962918\n",
       "3    0.059714\n",
       "4    0.085791\n",
       "5    0.912795\n",
       "6    0.506639\n",
       "7    0.126269\n",
       "8    0.120671\n",
       "9    0.459417\n",
       "dtype: float64"
      ]
     },
     "execution_count": 15,
     "metadata": {},
     "output_type": "execute_result"
    }
   ],
   "source": [
    "serie_dados = pd.Series(valores, index=indexes)\n",
    "serie_dados"
   ]
  },
  {
   "cell_type": "code",
   "execution_count": 16,
   "id": "1c8c751e",
   "metadata": {},
   "outputs": [
    {
     "data": {
      "text/plain": [
       "dict"
      ]
     },
     "execution_count": 16,
     "metadata": {},
     "output_type": "execute_result"
    }
   ],
   "source": [
    "dicionario = {'João': 10, 'Alice': 5, 'Gustavo': 6, 'Pedro': 9}\n",
    "type(dicionario)"
   ]
  },
  {
   "cell_type": "code",
   "execution_count": 17,
   "id": "0dc2f4f3",
   "metadata": {},
   "outputs": [
    {
     "data": {
      "text/plain": [
       "{'João': 10, 'Alice': 5, 'Gustavo': 6, 'Pedro': 9}"
      ]
     },
     "execution_count": 17,
     "metadata": {},
     "output_type": "execute_result"
    }
   ],
   "source": [
    "dicionario"
   ]
  },
  {
   "cell_type": "code",
   "execution_count": 18,
   "id": "ae44396c",
   "metadata": {},
   "outputs": [
    {
     "data": {
      "text/plain": [
       "João       10\n",
       "Alice       5\n",
       "Gustavo     6\n",
       "Pedro       9\n",
       "dtype: int64"
      ]
     },
     "execution_count": 18,
     "metadata": {},
     "output_type": "execute_result"
    }
   ],
   "source": [
    "dict_serie_dados = pd.Series(dicionario)\n",
    "dict_serie_dados"
   ]
  },
  {
   "cell_type": "code",
   "execution_count": 19,
   "id": "4771a3f6",
   "metadata": {},
   "outputs": [
    {
     "data": {
      "text/plain": [
       "dtype('int64')"
      ]
     },
     "execution_count": 19,
     "metadata": {},
     "output_type": "execute_result"
    }
   ],
   "source": [
    "dict_serie_dados.dtype"
   ]
  }
 ],
 "metadata": {
  "kernelspec": {
   "display_name": ".venv",
   "language": "python",
   "name": "python3"
  },
  "language_info": {
   "codemirror_mode": {
    "name": "ipython",
    "version": 3
   },
   "file_extension": ".py",
   "mimetype": "text/x-python",
   "name": "python",
   "nbconvert_exporter": "python",
   "pygments_lexer": "ipython3",
   "version": "3.12.12"
  }
 },
 "nbformat": 4,
 "nbformat_minor": 5
}
