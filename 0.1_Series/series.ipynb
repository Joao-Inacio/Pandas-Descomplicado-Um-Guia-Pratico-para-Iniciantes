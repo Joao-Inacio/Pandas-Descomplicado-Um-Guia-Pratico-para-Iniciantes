{
 "cells": [
  {
   "cell_type": "markdown",
   "id": "84329601",
   "metadata": {},
   "source": [
    "# **Series**"
   ]
  },
  {
   "cell_type": "code",
   "execution_count": 1,
   "id": "f63088fd",
   "metadata": {},
   "outputs": [],
   "source": [
    "import pandas as pd\n",
    "import numpy as np"
   ]
  },
  {
   "cell_type": "code",
   "execution_count": 2,
   "id": "af8931ae",
   "metadata": {},
   "outputs": [
    {
     "data": {
      "text/plain": [
       "('2.3.3', '2.3.4')"
      ]
     },
     "execution_count": 2,
     "metadata": {},
     "output_type": "execute_result"
    }
   ],
   "source": [
    "pd.__version__, np.__version__"
   ]
  },
  {
   "cell_type": "code",
   "execution_count": 3,
   "id": "5c9c6998",
   "metadata": {},
   "outputs": [
    {
     "data": {
      "text/plain": [
       "0    10\n",
       "1    20\n",
       "2    30\n",
       "3    40\n",
       "4    50\n",
       "dtype: int64"
      ]
     },
     "execution_count": 3,
     "metadata": {},
     "output_type": "execute_result"
    }
   ],
   "source": [
    "serie_dados = pd.Series([10, 20, 30, 40, 50])\n",
    "serie_dados"
   ]
  },
  {
   "cell_type": "code",
   "execution_count": 4,
   "id": "bafd6568",
   "metadata": {},
   "outputs": [
    {
     "data": {
      "text/plain": [
       "pandas.core.series.Series"
      ]
     },
     "execution_count": 4,
     "metadata": {},
     "output_type": "execute_result"
    }
   ],
   "source": [
    "type(serie_dados)"
   ]
  },
  {
   "cell_type": "code",
   "execution_count": 5,
   "id": "cd2896a1",
   "metadata": {},
   "outputs": [
    {
     "data": {
      "text/plain": [
       "A    10\n",
       "B    20\n",
       "C    30\n",
       "D    40\n",
       "E    50\n",
       "dtype: int64"
      ]
     },
     "execution_count": 5,
     "metadata": {},
     "output_type": "execute_result"
    }
   ],
   "source": [
    "array_inteiros = [10, 20, 30, 40, 50]\n",
    "indices = ['A', 'B', 'C', 'D', 'E']\n",
    "serie_dados = pd.Series(array_inteiros, index=indices)\n",
    "serie_dados"
   ]
  },
  {
   "cell_type": "code",
   "execution_count": 6,
   "id": "dc647b99",
   "metadata": {},
   "outputs": [
    {
     "data": {
      "text/plain": [
       "array([10, 20, 30, 40, 50])"
      ]
     },
     "execution_count": 6,
     "metadata": {},
     "output_type": "execute_result"
    }
   ],
   "source": [
    "np_array_inteiros = np.array([10, 20, 30, 40, 50])\n",
    "np_array_inteiros"
   ]
  },
  {
   "cell_type": "code",
   "execution_count": 7,
   "id": "a009a82b",
   "metadata": {},
   "outputs": [
    {
     "data": {
      "text/plain": [
       "numpy.ndarray"
      ]
     },
     "execution_count": 7,
     "metadata": {},
     "output_type": "execute_result"
    }
   ],
   "source": [
    "type(np_array_inteiros)"
   ]
  },
  {
   "cell_type": "code",
   "execution_count": 8,
   "id": "34aff4ab",
   "metadata": {},
   "outputs": [
    {
     "data": {
      "text/plain": [
       "0    10\n",
       "1    20\n",
       "2    30\n",
       "3    40\n",
       "4    50\n",
       "dtype: int64"
      ]
     },
     "execution_count": 8,
     "metadata": {},
     "output_type": "execute_result"
    }
   ],
   "source": [
    "serie_dados = pd.Series(array_inteiros)\n",
    "serie_dados"
   ]
  },
  {
   "cell_type": "code",
   "execution_count": 9,
   "id": "e69e9e69",
   "metadata": {},
   "outputs": [
    {
     "data": {
      "text/plain": [
       "(5,)"
      ]
     },
     "execution_count": 9,
     "metadata": {},
     "output_type": "execute_result"
    }
   ],
   "source": [
    "serie_dados.shape"
   ]
  },
  {
   "cell_type": "code",
   "execution_count": 10,
   "id": "b3afb29f",
   "metadata": {},
   "outputs": [
    {
     "data": {
      "text/plain": [
       "1"
      ]
     },
     "execution_count": 10,
     "metadata": {},
     "output_type": "execute_result"
    }
   ],
   "source": [
    "serie_dados.ndim"
   ]
  },
  {
   "cell_type": "code",
   "execution_count": 11,
   "id": "13803f2a",
   "metadata": {},
   "outputs": [
    {
     "data": {
      "text/plain": [
       "5"
      ]
     },
     "execution_count": 11,
     "metadata": {},
     "output_type": "execute_result"
    }
   ],
   "source": [
    "serie_dados.size"
   ]
  },
  {
   "cell_type": "code",
   "execution_count": 12,
   "id": "1e55e799",
   "metadata": {},
   "outputs": [
    {
     "data": {
      "text/plain": [
       "0    10\n",
       "1    20\n",
       "2    30\n",
       "3    40\n",
       "4    50\n",
       "dtype: int64"
      ]
     },
     "execution_count": 12,
     "metadata": {},
     "output_type": "execute_result"
    }
   ],
   "source": [
    "serie_dados"
   ]
  },
  {
   "cell_type": "code",
   "execution_count": 13,
   "id": "d9d19805",
   "metadata": {},
   "outputs": [
    {
     "data": {
      "text/plain": [
       "Z    10\n",
       "X    20\n",
       "V    30\n",
       "A    40\n",
       "B    50\n",
       "dtype: int64"
      ]
     },
     "execution_count": 13,
     "metadata": {},
     "output_type": "execute_result"
    }
   ],
   "source": [
    "serie_dados.index = ['Z', 'X', 'V', 'A', 'B']\n",
    "serie_dados"
   ]
  },
  {
   "cell_type": "code",
   "execution_count": 14,
   "id": "15eff3da",
   "metadata": {},
   "outputs": [
    {
     "data": {
      "text/plain": [
       "(array([0.48348459, 0.68716873, 0.71512942, 0.50975805, 0.75484941,\n",
       "        0.21914338, 0.39322362, 0.08418005, 0.71285215, 0.33365219]),\n",
       " array([0, 1, 2, 3, 4, 5, 6, 7, 8, 9]))"
      ]
     },
     "execution_count": 14,
     "metadata": {},
     "output_type": "execute_result"
    }
   ],
   "source": [
    "valores = np.random.random(10)\n",
    "indexes = np.arange(0, 10)\n",
    "valores, indexes"
   ]
  },
  {
   "cell_type": "code",
   "execution_count": 15,
   "id": "e668ac23",
   "metadata": {},
   "outputs": [
    {
     "data": {
      "text/plain": [
       "0    0.483485\n",
       "1    0.687169\n",
       "2    0.715129\n",
       "3    0.509758\n",
       "4    0.754849\n",
       "5    0.219143\n",
       "6    0.393224\n",
       "7    0.084180\n",
       "8    0.712852\n",
       "9    0.333652\n",
       "dtype: float64"
      ]
     },
     "execution_count": 15,
     "metadata": {},
     "output_type": "execute_result"
    }
   ],
   "source": [
    "serie_dados = pd.Series(valores, index=indexes)\n",
    "serie_dados"
   ]
  },
  {
   "cell_type": "code",
   "execution_count": 16,
   "id": "1c8c751e",
   "metadata": {},
   "outputs": [
    {
     "data": {
      "text/plain": [
       "dict"
      ]
     },
     "execution_count": 16,
     "metadata": {},
     "output_type": "execute_result"
    }
   ],
   "source": [
    "dicionario = {'João': 10, 'Alice': 5, 'Gustavo': 6, 'Pedro': 9}\n",
    "type(dicionario)"
   ]
  },
  {
   "cell_type": "code",
   "execution_count": 17,
   "id": "0dc2f4f3",
   "metadata": {},
   "outputs": [
    {
     "data": {
      "text/plain": [
       "{'João': 10, 'Alice': 5, 'Gustavo': 6, 'Pedro': 9}"
      ]
     },
     "execution_count": 17,
     "metadata": {},
     "output_type": "execute_result"
    }
   ],
   "source": [
    "dicionario"
   ]
  },
  {
   "cell_type": "code",
   "execution_count": 18,
   "id": "ae44396c",
   "metadata": {},
   "outputs": [
    {
     "data": {
      "text/plain": [
       "João       10\n",
       "Alice       5\n",
       "Gustavo     6\n",
       "Pedro       9\n",
       "dtype: int64"
      ]
     },
     "execution_count": 18,
     "metadata": {},
     "output_type": "execute_result"
    }
   ],
   "source": [
    "dict_serie_dados = pd.Series(dicionario)\n",
    "dict_serie_dados"
   ]
  },
  {
   "cell_type": "code",
   "execution_count": 19,
   "id": "4771a3f6",
   "metadata": {},
   "outputs": [
    {
     "data": {
      "text/plain": [
       "dtype('int64')"
      ]
     },
     "execution_count": 19,
     "metadata": {},
     "output_type": "execute_result"
    }
   ],
   "source": [
    "dict_serie_dados.dtype"
   ]
  },
  {
   "cell_type": "markdown",
   "id": "33e7552a",
   "metadata": {},
   "source": [
    "## Fatiamento (slicing)"
   ]
  },
  {
   "cell_type": "code",
   "execution_count": 20,
   "id": "e3b885a6",
   "metadata": {},
   "outputs": [
    {
     "data": {
      "text/plain": [
       "0    0.483485\n",
       "1    0.687169\n",
       "2    0.715129\n",
       "3    0.509758\n",
       "4    0.754849\n",
       "5    0.219143\n",
       "6    0.393224\n",
       "7    0.084180\n",
       "8    0.712852\n",
       "9    0.333652\n",
       "dtype: float64"
      ]
     },
     "execution_count": 20,
     "metadata": {},
     "output_type": "execute_result"
    }
   ],
   "source": [
    "serie_dados"
   ]
  },
  {
   "cell_type": "code",
   "execution_count": 21,
   "id": "dafcaed7",
   "metadata": {},
   "outputs": [
    {
     "data": {
      "text/plain": [
       "0    0.483485\n",
       "1    0.687169\n",
       "2    0.715129\n",
       "dtype: float64"
      ]
     },
     "execution_count": 21,
     "metadata": {},
     "output_type": "execute_result"
    }
   ],
   "source": [
    "serie_dados[0:3]"
   ]
  },
  {
   "cell_type": "code",
   "execution_count": 22,
   "id": "3750f416",
   "metadata": {},
   "outputs": [
    {
     "data": {
      "text/plain": [
       "0    0.483485\n",
       "1    0.687169\n",
       "2    0.715129\n",
       "3    0.509758\n",
       "dtype: float64"
      ]
     },
     "execution_count": 22,
     "metadata": {},
     "output_type": "execute_result"
    }
   ],
   "source": [
    "serie_dados[:4]"
   ]
  },
  {
   "cell_type": "code",
   "execution_count": 23,
   "id": "3efe53dc",
   "metadata": {},
   "outputs": [
    {
     "data": {
      "text/plain": [
       "9    0.333652\n",
       "dtype: float64"
      ]
     },
     "execution_count": 23,
     "metadata": {},
     "output_type": "execute_result"
    }
   ],
   "source": [
    "serie_dados[-1:]"
   ]
  },
  {
   "cell_type": "code",
   "execution_count": 24,
   "id": "7b9b98ba",
   "metadata": {},
   "outputs": [
    {
     "data": {
      "text/plain": [
       "0    0.483485\n",
       "1    0.687169\n",
       "2    0.715129\n",
       "3    0.509758\n",
       "4    0.754849\n",
       "5    0.219143\n",
       "6    0.393224\n",
       "7    0.084180\n",
       "8    0.712852\n",
       "dtype: float64"
      ]
     },
     "execution_count": 24,
     "metadata": {},
     "output_type": "execute_result"
    }
   ],
   "source": [
    "serie_dados[:-1]"
   ]
  },
  {
   "cell_type": "code",
   "execution_count": 25,
   "id": "27198ada",
   "metadata": {},
   "outputs": [
    {
     "data": {
      "text/plain": [
       "0    0.483485\n",
       "1    0.687169\n",
       "2    0.715129\n",
       "dtype: float64"
      ]
     },
     "execution_count": 25,
     "metadata": {},
     "output_type": "execute_result"
    }
   ],
   "source": [
    "s2 = serie_dados[:3]\n",
    "s2"
   ]
  },
  {
   "cell_type": "markdown",
   "id": "c532c623",
   "metadata": {},
   "source": [
    "### Cópia, conversão e concatenação"
   ]
  },
  {
   "cell_type": "code",
   "execution_count": 26,
   "id": "37e399b2",
   "metadata": {},
   "outputs": [],
   "source": [
    "serie_dados2 = serie_dados.copy()"
   ]
  },
  {
   "cell_type": "code",
   "execution_count": 27,
   "id": "15a96f66",
   "metadata": {},
   "outputs": [
    {
     "data": {
      "text/plain": [
       "0    0.483485\n",
       "1    0.687169\n",
       "2    0.715129\n",
       "3    0.509758\n",
       "4    0.754849\n",
       "5    0.219143\n",
       "6    0.393224\n",
       "7    0.084180\n",
       "8    0.712852\n",
       "9    0.333652\n",
       "dtype: float64"
      ]
     },
     "execution_count": 27,
     "metadata": {},
     "output_type": "execute_result"
    }
   ],
   "source": [
    "serie_dados2"
   ]
  },
  {
   "cell_type": "code",
   "execution_count": 28,
   "id": "308f56e9",
   "metadata": {},
   "outputs": [
    {
     "data": {
      "text/plain": [
       "dtype('float64')"
      ]
     },
     "execution_count": 28,
     "metadata": {},
     "output_type": "execute_result"
    }
   ],
   "source": [
    "serie_dados2.dtype"
   ]
  },
  {
   "cell_type": "code",
   "execution_count": 29,
   "id": "c881653c",
   "metadata": {},
   "outputs": [
    {
     "data": {
      "text/plain": [
       "0    0\n",
       "1    0\n",
       "2    0\n",
       "3    0\n",
       "4    0\n",
       "5    0\n",
       "6    0\n",
       "7    0\n",
       "8    0\n",
       "9    0\n",
       "dtype: int64"
      ]
     },
     "execution_count": 29,
     "metadata": {},
     "output_type": "execute_result"
    }
   ],
   "source": [
    "serie_dados2.astype(int)"
   ]
  },
  {
   "cell_type": "code",
   "execution_count": 30,
   "id": "a5e633b1",
   "metadata": {},
   "outputs": [
    {
     "data": {
      "text/plain": [
       "dtype('float64')"
      ]
     },
     "execution_count": 30,
     "metadata": {},
     "output_type": "execute_result"
    }
   ],
   "source": [
    "serie_dados2.dtype"
   ]
  },
  {
   "cell_type": "code",
   "execution_count": 31,
   "id": "ff497c4f",
   "metadata": {},
   "outputs": [],
   "source": [
    "serie_dados2 = serie_dados2.astype(int)"
   ]
  },
  {
   "cell_type": "code",
   "execution_count": 32,
   "id": "d56ae568",
   "metadata": {},
   "outputs": [
    {
     "data": {
      "text/plain": [
       "dtype('int64')"
      ]
     },
     "execution_count": 32,
     "metadata": {},
     "output_type": "execute_result"
    }
   ],
   "source": [
    "serie_dados2.dtype"
   ]
  },
  {
   "cell_type": "code",
   "execution_count": 33,
   "id": "3599d7ad",
   "metadata": {},
   "outputs": [
    {
     "data": {
      "text/plain": [
       "Gustavo    20\n",
       "Alana      30\n",
       "dtype: int64"
      ]
     },
     "execution_count": 33,
     "metadata": {},
     "output_type": "execute_result"
    }
   ],
   "source": [
    "dados_novos = {'Gustavo': 20, 'Alana': 30}\n",
    "serie_dados3 = pd.Series(dados_novos)\n",
    "serie_dados3"
   ]
  },
  {
   "cell_type": "code",
   "execution_count": 34,
   "id": "e551ae4e",
   "metadata": {},
   "outputs": [
    {
     "data": {
      "text/plain": [
       "João       10\n",
       "Alice       5\n",
       "Gustavo     6\n",
       "Pedro       9\n",
       "dtype: int64"
      ]
     },
     "execution_count": 34,
     "metadata": {},
     "output_type": "execute_result"
    }
   ],
   "source": [
    "dict_serie_dados"
   ]
  },
  {
   "cell_type": "code",
   "execution_count": 35,
   "id": "ee715ec5",
   "metadata": {},
   "outputs": [
    {
     "data": {
      "text/plain": [
       "João       10\n",
       "Alice       5\n",
       "Gustavo     6\n",
       "Pedro       9\n",
       "Gustavo    20\n",
       "Alana      30\n",
       "dtype: int64"
      ]
     },
     "execution_count": 35,
     "metadata": {},
     "output_type": "execute_result"
    }
   ],
   "source": [
    "serie_dados4 = pd.concat([dict_serie_dados, serie_dados3])\n",
    "serie_dados4"
   ]
  },
  {
   "cell_type": "markdown",
   "id": "fe70d065",
   "metadata": {},
   "source": [
    "## Acesso aos dados com iloc\n",
    "- Acessar elementos pelo índice"
   ]
  },
  {
   "cell_type": "code",
   "execution_count": 36,
   "id": "56a5ec1b",
   "metadata": {},
   "outputs": [
    {
     "data": {
      "text/html": [
       "<div>\n",
       "<style scoped>\n",
       "    .dataframe tbody tr th:only-of-type {\n",
       "        vertical-align: middle;\n",
       "    }\n",
       "\n",
       "    .dataframe tbody tr th {\n",
       "        vertical-align: top;\n",
       "    }\n",
       "\n",
       "    .dataframe thead th {\n",
       "        text-align: right;\n",
       "    }\n",
       "</style>\n",
       "<table border=\"1\" class=\"dataframe\">\n",
       "  <thead>\n",
       "    <tr style=\"text-align: right;\">\n",
       "      <th></th>\n",
       "      <th>age</th>\n",
       "      <th>workclass</th>\n",
       "      <th>final-weight</th>\n",
       "      <th>education</th>\n",
       "      <th>education-num</th>\n",
       "      <th>marital-status</th>\n",
       "      <th>occupation</th>\n",
       "      <th>relationship</th>\n",
       "      <th>race</th>\n",
       "      <th>sex</th>\n",
       "      <th>capital-gain</th>\n",
       "      <th>capital-loos</th>\n",
       "      <th>hour-per-week</th>\n",
       "      <th>native-country</th>\n",
       "      <th>income</th>\n",
       "    </tr>\n",
       "  </thead>\n",
       "  <tbody>\n",
       "    <tr>\n",
       "      <th>0</th>\n",
       "      <td>39</td>\n",
       "      <td>State-gov</td>\n",
       "      <td>77516</td>\n",
       "      <td>Bachelors</td>\n",
       "      <td>13</td>\n",
       "      <td>Never-married</td>\n",
       "      <td>Adm-clerical</td>\n",
       "      <td>Not-in-family</td>\n",
       "      <td>White</td>\n",
       "      <td>Male</td>\n",
       "      <td>2174</td>\n",
       "      <td>0</td>\n",
       "      <td>40</td>\n",
       "      <td>United-States</td>\n",
       "      <td>&lt;=50K</td>\n",
       "    </tr>\n",
       "    <tr>\n",
       "      <th>1</th>\n",
       "      <td>50</td>\n",
       "      <td>Self-emp-not-inc</td>\n",
       "      <td>83311</td>\n",
       "      <td>Bachelors</td>\n",
       "      <td>13</td>\n",
       "      <td>Married-civ-spouse</td>\n",
       "      <td>Exec-managerial</td>\n",
       "      <td>Husband</td>\n",
       "      <td>White</td>\n",
       "      <td>Male</td>\n",
       "      <td>0</td>\n",
       "      <td>0</td>\n",
       "      <td>13</td>\n",
       "      <td>United-States</td>\n",
       "      <td>&lt;=50K</td>\n",
       "    </tr>\n",
       "    <tr>\n",
       "      <th>2</th>\n",
       "      <td>38</td>\n",
       "      <td>Private</td>\n",
       "      <td>215646</td>\n",
       "      <td>HS-grad</td>\n",
       "      <td>9</td>\n",
       "      <td>Divorced</td>\n",
       "      <td>Handlers-cleaners</td>\n",
       "      <td>Not-in-family</td>\n",
       "      <td>White</td>\n",
       "      <td>Male</td>\n",
       "      <td>0</td>\n",
       "      <td>0</td>\n",
       "      <td>40</td>\n",
       "      <td>United-States</td>\n",
       "      <td>&lt;=50K</td>\n",
       "    </tr>\n",
       "    <tr>\n",
       "      <th>3</th>\n",
       "      <td>53</td>\n",
       "      <td>Private</td>\n",
       "      <td>234721</td>\n",
       "      <td>11th</td>\n",
       "      <td>7</td>\n",
       "      <td>Married-civ-spouse</td>\n",
       "      <td>Handlers-cleaners</td>\n",
       "      <td>Husband</td>\n",
       "      <td>Black</td>\n",
       "      <td>Male</td>\n",
       "      <td>0</td>\n",
       "      <td>0</td>\n",
       "      <td>40</td>\n",
       "      <td>United-States</td>\n",
       "      <td>&lt;=50K</td>\n",
       "    </tr>\n",
       "    <tr>\n",
       "      <th>4</th>\n",
       "      <td>28</td>\n",
       "      <td>Private</td>\n",
       "      <td>338409</td>\n",
       "      <td>Bachelors</td>\n",
       "      <td>13</td>\n",
       "      <td>Married-civ-spouse</td>\n",
       "      <td>Prof-specialty</td>\n",
       "      <td>Wife</td>\n",
       "      <td>Black</td>\n",
       "      <td>Female</td>\n",
       "      <td>0</td>\n",
       "      <td>0</td>\n",
       "      <td>40</td>\n",
       "      <td>Cuba</td>\n",
       "      <td>&lt;=50K</td>\n",
       "    </tr>\n",
       "    <tr>\n",
       "      <th>...</th>\n",
       "      <td>...</td>\n",
       "      <td>...</td>\n",
       "      <td>...</td>\n",
       "      <td>...</td>\n",
       "      <td>...</td>\n",
       "      <td>...</td>\n",
       "      <td>...</td>\n",
       "      <td>...</td>\n",
       "      <td>...</td>\n",
       "      <td>...</td>\n",
       "      <td>...</td>\n",
       "      <td>...</td>\n",
       "      <td>...</td>\n",
       "      <td>...</td>\n",
       "      <td>...</td>\n",
       "    </tr>\n",
       "    <tr>\n",
       "      <th>32556</th>\n",
       "      <td>27</td>\n",
       "      <td>Private</td>\n",
       "      <td>257302</td>\n",
       "      <td>Assoc-acdm</td>\n",
       "      <td>12</td>\n",
       "      <td>Married-civ-spouse</td>\n",
       "      <td>Tech-support</td>\n",
       "      <td>Wife</td>\n",
       "      <td>White</td>\n",
       "      <td>Female</td>\n",
       "      <td>0</td>\n",
       "      <td>0</td>\n",
       "      <td>38</td>\n",
       "      <td>United-States</td>\n",
       "      <td>&lt;=50K</td>\n",
       "    </tr>\n",
       "    <tr>\n",
       "      <th>32557</th>\n",
       "      <td>40</td>\n",
       "      <td>Private</td>\n",
       "      <td>154374</td>\n",
       "      <td>HS-grad</td>\n",
       "      <td>9</td>\n",
       "      <td>Married-civ-spouse</td>\n",
       "      <td>Machine-op-inspct</td>\n",
       "      <td>Husband</td>\n",
       "      <td>White</td>\n",
       "      <td>Male</td>\n",
       "      <td>0</td>\n",
       "      <td>0</td>\n",
       "      <td>40</td>\n",
       "      <td>United-States</td>\n",
       "      <td>&gt;50K</td>\n",
       "    </tr>\n",
       "    <tr>\n",
       "      <th>32558</th>\n",
       "      <td>58</td>\n",
       "      <td>Private</td>\n",
       "      <td>151910</td>\n",
       "      <td>HS-grad</td>\n",
       "      <td>9</td>\n",
       "      <td>Widowed</td>\n",
       "      <td>Adm-clerical</td>\n",
       "      <td>Unmarried</td>\n",
       "      <td>White</td>\n",
       "      <td>Female</td>\n",
       "      <td>0</td>\n",
       "      <td>0</td>\n",
       "      <td>40</td>\n",
       "      <td>United-States</td>\n",
       "      <td>&lt;=50K</td>\n",
       "    </tr>\n",
       "    <tr>\n",
       "      <th>32559</th>\n",
       "      <td>22</td>\n",
       "      <td>Private</td>\n",
       "      <td>201490</td>\n",
       "      <td>HS-grad</td>\n",
       "      <td>9</td>\n",
       "      <td>Never-married</td>\n",
       "      <td>Adm-clerical</td>\n",
       "      <td>Own-child</td>\n",
       "      <td>White</td>\n",
       "      <td>Male</td>\n",
       "      <td>0</td>\n",
       "      <td>0</td>\n",
       "      <td>20</td>\n",
       "      <td>United-States</td>\n",
       "      <td>&lt;=50K</td>\n",
       "    </tr>\n",
       "    <tr>\n",
       "      <th>32560</th>\n",
       "      <td>52</td>\n",
       "      <td>Self-emp-inc</td>\n",
       "      <td>287927</td>\n",
       "      <td>HS-grad</td>\n",
       "      <td>9</td>\n",
       "      <td>Married-civ-spouse</td>\n",
       "      <td>Exec-managerial</td>\n",
       "      <td>Wife</td>\n",
       "      <td>White</td>\n",
       "      <td>Female</td>\n",
       "      <td>15024</td>\n",
       "      <td>0</td>\n",
       "      <td>40</td>\n",
       "      <td>United-States</td>\n",
       "      <td>&gt;50K</td>\n",
       "    </tr>\n",
       "  </tbody>\n",
       "</table>\n",
       "<p>32561 rows × 15 columns</p>\n",
       "</div>"
      ],
      "text/plain": [
       "       age          workclass  final-weight    education  education-num  \\\n",
       "0       39          State-gov         77516    Bachelors             13   \n",
       "1       50   Self-emp-not-inc         83311    Bachelors             13   \n",
       "2       38            Private        215646      HS-grad              9   \n",
       "3       53            Private        234721         11th              7   \n",
       "4       28            Private        338409    Bachelors             13   \n",
       "...    ...                ...           ...          ...            ...   \n",
       "32556   27            Private        257302   Assoc-acdm             12   \n",
       "32557   40            Private        154374      HS-grad              9   \n",
       "32558   58            Private        151910      HS-grad              9   \n",
       "32559   22            Private        201490      HS-grad              9   \n",
       "32560   52       Self-emp-inc        287927      HS-grad              9   \n",
       "\n",
       "            marital-status          occupation    relationship    race  \\\n",
       "0            Never-married        Adm-clerical   Not-in-family   White   \n",
       "1       Married-civ-spouse     Exec-managerial         Husband   White   \n",
       "2                 Divorced   Handlers-cleaners   Not-in-family   White   \n",
       "3       Married-civ-spouse   Handlers-cleaners         Husband   Black   \n",
       "4       Married-civ-spouse      Prof-specialty            Wife   Black   \n",
       "...                    ...                 ...             ...     ...   \n",
       "32556   Married-civ-spouse        Tech-support            Wife   White   \n",
       "32557   Married-civ-spouse   Machine-op-inspct         Husband   White   \n",
       "32558              Widowed        Adm-clerical       Unmarried   White   \n",
       "32559        Never-married        Adm-clerical       Own-child   White   \n",
       "32560   Married-civ-spouse     Exec-managerial            Wife   White   \n",
       "\n",
       "           sex  capital-gain  capital-loos  hour-per-week  native-country  \\\n",
       "0         Male          2174             0             40   United-States   \n",
       "1         Male             0             0             13   United-States   \n",
       "2         Male             0             0             40   United-States   \n",
       "3         Male             0             0             40   United-States   \n",
       "4       Female             0             0             40            Cuba   \n",
       "...        ...           ...           ...            ...             ...   \n",
       "32556   Female             0             0             38   United-States   \n",
       "32557     Male             0             0             40   United-States   \n",
       "32558   Female             0             0             40   United-States   \n",
       "32559     Male             0             0             20   United-States   \n",
       "32560   Female         15024             0             40   United-States   \n",
       "\n",
       "       income  \n",
       "0       <=50K  \n",
       "1       <=50K  \n",
       "2       <=50K  \n",
       "3       <=50K  \n",
       "4       <=50K  \n",
       "...       ...  \n",
       "32556   <=50K  \n",
       "32557    >50K  \n",
       "32558   <=50K  \n",
       "32559   <=50K  \n",
       "32560    >50K  \n",
       "\n",
       "[32561 rows x 15 columns]"
      ]
     },
     "execution_count": 36,
     "metadata": {},
     "output_type": "execute_result"
    }
   ],
   "source": [
    "dataset = pd.read_csv('../data/census.csv')\n",
    "dataset"
   ]
  },
  {
   "cell_type": "code",
   "execution_count": 37,
   "id": "55bc5608",
   "metadata": {},
   "outputs": [
    {
     "data": {
      "text/plain": [
       "pandas.core.frame.DataFrame"
      ]
     },
     "execution_count": 37,
     "metadata": {},
     "output_type": "execute_result"
    }
   ],
   "source": [
    "type(dataset)"
   ]
  },
  {
   "cell_type": "code",
   "execution_count": 38,
   "id": "3e544b42",
   "metadata": {},
   "outputs": [
    {
     "data": {
      "text/plain": [
       "0        39\n",
       "1        50\n",
       "2        38\n",
       "3        53\n",
       "4        28\n",
       "         ..\n",
       "32556    27\n",
       "32557    40\n",
       "32558    58\n",
       "32559    22\n",
       "32560    52\n",
       "Name: age, Length: 32561, dtype: int64"
      ]
     },
     "execution_count": 38,
     "metadata": {},
     "output_type": "execute_result"
    }
   ],
   "source": [
    "serie_idade = dataset['age']\n",
    "serie_idade"
   ]
  },
  {
   "cell_type": "code",
   "execution_count": 39,
   "id": "5396bd09",
   "metadata": {},
   "outputs": [
    {
     "data": {
      "text/plain": [
       "pandas.core.series.Series"
      ]
     },
     "execution_count": 39,
     "metadata": {},
     "output_type": "execute_result"
    }
   ],
   "source": [
    "type(serie_idade)"
   ]
  },
  {
   "cell_type": "code",
   "execution_count": 40,
   "id": "a0c89e6d",
   "metadata": {},
   "outputs": [
    {
     "data": {
      "text/plain": [
       "(array([39, 50, 38, ..., 58, 22, 52], shape=(32561,)), numpy.ndarray)"
      ]
     },
     "execution_count": 40,
     "metadata": {},
     "output_type": "execute_result"
    }
   ],
   "source": [
    "dataset['age'].values, type(dataset['age'].values)"
   ]
  },
  {
   "cell_type": "code",
   "execution_count": 41,
   "id": "e2426723",
   "metadata": {},
   "outputs": [
    {
     "data": {
      "text/plain": [
       "0    39\n",
       "1    50\n",
       "2    38\n",
       "3    53\n",
       "4    28\n",
       "Name: age, dtype: int64"
      ]
     },
     "execution_count": 41,
     "metadata": {},
     "output_type": "execute_result"
    }
   ],
   "source": [
    "serie_idade.head()"
   ]
  },
  {
   "cell_type": "code",
   "execution_count": 42,
   "id": "c5f9a753",
   "metadata": {},
   "outputs": [
    {
     "data": {
      "text/plain": [
       "0    39\n",
       "1    50\n",
       "2    38\n",
       "3    53\n",
       "4    28\n",
       "5    37\n",
       "6    49\n",
       "7    52\n",
       "8    31\n",
       "9    42\n",
       "Name: age, dtype: int64"
      ]
     },
     "execution_count": 42,
     "metadata": {},
     "output_type": "execute_result"
    }
   ],
   "source": [
    "serie_idade.head(10)"
   ]
  },
  {
   "cell_type": "code",
   "execution_count": 43,
   "id": "0532208e",
   "metadata": {},
   "outputs": [
    {
     "data": {
      "text/plain": [
       "32556    27\n",
       "32557    40\n",
       "32558    58\n",
       "32559    22\n",
       "32560    52\n",
       "Name: age, dtype: int64"
      ]
     },
     "execution_count": 43,
     "metadata": {},
     "output_type": "execute_result"
    }
   ],
   "source": [
    "serie_idade.tail()"
   ]
  },
  {
   "cell_type": "code",
   "execution_count": 44,
   "id": "4c31dfb7",
   "metadata": {},
   "outputs": [
    {
     "data": {
      "text/plain": [
       "32551    32\n",
       "32552    43\n",
       "32553    32\n",
       "32554    53\n",
       "32555    22\n",
       "32556    27\n",
       "32557    40\n",
       "32558    58\n",
       "32559    22\n",
       "32560    52\n",
       "Name: age, dtype: int64"
      ]
     },
     "execution_count": 44,
     "metadata": {},
     "output_type": "execute_result"
    }
   ],
   "source": [
    "serie_idade.tail(10)"
   ]
  },
  {
   "cell_type": "code",
   "execution_count": 45,
   "id": "ec384502",
   "metadata": {},
   "outputs": [
    {
     "data": {
      "text/plain": [
       "np.int64(39)"
      ]
     },
     "execution_count": 45,
     "metadata": {},
     "output_type": "execute_result"
    }
   ],
   "source": [
    "serie_idade.iloc[0]"
   ]
  },
  {
   "cell_type": "code",
   "execution_count": 46,
   "id": "b2b2027f",
   "metadata": {},
   "outputs": [
    {
     "data": {
      "text/plain": [
       "np.int64(52)"
      ]
     },
     "execution_count": 46,
     "metadata": {},
     "output_type": "execute_result"
    }
   ],
   "source": [
    "serie_idade.iloc[-1]"
   ]
  },
  {
   "cell_type": "code",
   "execution_count": 47,
   "id": "b63a31b2",
   "metadata": {},
   "outputs": [
    {
     "data": {
      "text/plain": [
       "0    39\n",
       "1    50\n",
       "2    38\n",
       "Name: age, dtype: int64"
      ]
     },
     "execution_count": 47,
     "metadata": {},
     "output_type": "execute_result"
    }
   ],
   "source": [
    "serie_idade.iloc[0:3]"
   ]
  },
  {
   "cell_type": "code",
   "execution_count": 48,
   "id": "588f6af4",
   "metadata": {},
   "outputs": [
    {
     "data": {
      "text/plain": [
       "0    39\n",
       "2    38\n",
       "4    28\n",
       "Name: age, dtype: int64"
      ]
     },
     "execution_count": 48,
     "metadata": {},
     "output_type": "execute_result"
    }
   ],
   "source": [
    "serie_idade.iloc[[0, 2, 4]]"
   ]
  },
  {
   "cell_type": "code",
   "execution_count": 49,
   "id": "4ae09eed",
   "metadata": {},
   "outputs": [],
   "source": [
    "lista_idade = []\n",
    "for i in serie_idade.items():\n",
    "    if i[1] > 50:\n",
    "        lista_idade.append(i[0])"
   ]
  },
  {
   "cell_type": "code",
   "execution_count": 50,
   "id": "d9c4a9cf",
   "metadata": {},
   "outputs": [
    {
     "name": "stdout",
     "output_type": "stream",
     "text": [
      "[3, 7, 21, 24, 25, 27, 41, 45, 46, 67, 74, 77, 81, 83, 85, 90, 100, 112, 115, 116, 118, 140, 144, 148, 154, 157, 160, 169, 172, 187, 189, 202, 208, 213, 214, 221, 222, 223, 224, 226, 227, 228, 229, 235, 245, 246, 252, 254, 263, 267, 270, 283, 285, 295, 303, 316, 319, 324, 325, 328, 329, 333, 334, 346, 348, 354, 356, 361, 366, 368, 380, 399, 416, 428, 430, 447, 452, 461, 466, 470, 474, 484, 486, 487, 499, 501, 502, 503, 511, 515, 527, 534, 536, 546, 552, 555, 561, 564, 571, 578, 580, 581, 582, 588, 589, 591, 592, 602, 606, 610, 618, 622, 634, 639, 641, 647, 648, 656, 679, 686, 690, 708, 729, 731, 738, 741, 746, 752, 756, 761, 763, 764, 774, 779, 786, 788, 794, 796, 802, 808, 817, 818, 825, 826, 831, 833, 834, 835, 839, 842, 843, 844, 850, 857, 872, 873, 874, 885, 888, 900, 901, 909, 912, 917, 918, 924, 927, 932, 945, 952, 954, 967, 972, 978, 983, 985, 989, 995, 1005, 1006, 1008, 1010, 1017, 1025, 1034, 1036, 1040, 1046, 1050, 1051, 1053, 1061, 1062, 1082, 1096, 1100, 1113, 1115, 1118, 1119, 1127, 1142, 1144, 1148, 1153, 1161, 1163, 1166, 1168, 1170, 1175, 1185, 1186, 1187, 1190, 1196, 1197, 1205, 1206, 1213, 1215, 1222, 1223, 1229, 1231, 1241, 1243, 1245, 1246, 1250, 1253, 1257, 1261, 1262, 1263, 1275, 1277, 1280, 1282, 1287, 1290, 1291, 1302, 1313, 1320, 1323, 1327, 1333, 1334, 1338, 1341, 1343, 1346, 1349, 1354, 1355, 1361, 1363, 1367, 1368, 1371, 1377, 1378, 1392, 1396, 1397, 1398, 1401, 1413, 1414, 1424, 1429, 1431, 1435, 1441, 1444, 1448, 1451, 1455, 1458, 1465, 1470, 1473, 1481, 1482, 1488, 1493, 1503, 1504, 1506, 1513, 1514, 1517, 1528, 1541, 1543, 1544, 1552, 1554, 1562, 1563, 1575, 1579, 1586, 1590, 1593, 1601, 1603, 1605, 1610, 1613, 1615, 1625, 1626, 1627, 1631, 1635, 1639, 1640, 1643, 1644, 1645, 1649, 1659, 1663, 1668, 1672, 1676, 1688, 1693, 1695, 1699, 1706, 1710, 1721, 1726, 1735, 1739, 1753, 1754, 1758, 1761, 1768, 1772, 1777, 1789, 1799, 1802, 1806, 1808, 1809, 1810, 1812, 1818, 1824, 1825, 1831, 1834, 1836, 1837, 1844, 1851, 1862, 1865, 1875, 1886, 1887, 1890, 1891, 1894, 1901, 1912, 1929, 1935, 1941, 1946, 1951, 1954, 1956, 1957, 1961, 1968, 1980, 1984, 1986, 1997, 1999, 2002, 2003, 2006, 2017, 2031, 2041, 2044, 2047, 2051, 2064, 2067, 2072, 2073, 2076, 2080, 2086, 2093, 2097, 2098, 2099, 2101, 2108, 2109, 2113, 2118, 2136, 2140, 2142, 2143, 2147, 2154, 2155, 2158, 2163, 2169, 2173, 2176, 2177, 2179, 2184, 2189, 2200, 2202, 2213, 2214, 2219, 2221, 2229, 2230, 2236, 2241, 2242, 2244, 2245, 2246, 2247, 2254, 2293, 2294, 2303, 2308, 2309, 2310, 2315, 2317, 2318, 2319, 2324, 2328, 2330, 2334, 2348, 2358, 2371, 2372, 2373, 2374, 2377, 2383, 2385, 2396, 2402, 2403, 2404, 2410, 2416, 2420, 2421, 2424, 2426, 2430, 2431, 2441, 2442, 2456, 2462, 2464, 2478, 2479, 2483, 2486, 2487, 2488, 2489, 2491, 2498, 2502, 2503, 2504, 2505, 2507, 2511, 2517, 2521, 2523, 2524, 2540, 2543, 2548, 2552, 2556, 2558, 2563, 2566, 2569, 2570, 2573, 2578, 2580, 2584, 2585, 2592, 2594, 2599, 2601, 2615, 2626, 2629, 2633, 2634, 2635, 2638, 2646, 2665, 2670, 2676, 2679, 2681, 2682, 2684, 2687, 2690, 2691, 2700, 2702, 2707, 2715, 2718, 2730, 2731, 2737, 2746, 2751, 2752, 2754, 2760, 2762, 2774, 2780, 2781, 2784, 2785, 2790, 2791, 2793, 2810, 2811, 2828, 2830, 2832, 2833, 2837, 2852, 2867, 2877, 2882, 2884, 2885, 2891, 2892, 2897, 2901, 2905, 2906, 2909, 2920, 2922, 2927, 2941, 2955, 2956, 2961, 2967, 2974, 2977, 2983, 2986, 2991, 2999, 3001, 3013, 3017, 3020, 3021, 3022, 3030, 3035, 3036, 3045, 3046, 3048, 3050, 3056, 3057, 3065, 3082, 3089, 3092, 3101, 3107, 3116, 3120, 3125, 3129, 3135, 3137, 3149, 3152, 3153, 3158, 3159, 3163, 3166, 3178, 3184, 3188, 3191, 3192, 3197, 3199, 3209, 3211, 3213, 3217, 3219, 3221, 3224, 3226, 3231, 3232, 3233, 3247, 3270, 3274, 3275, 3278, 3291, 3292, 3297, 3301, 3302, 3307, 3311, 3315, 3324, 3327, 3329, 3335, 3338, 3341, 3360, 3365, 3369, 3387, 3389, 3395, 3399, 3401, 3402, 3407, 3414, 3415, 3427, 3434, 3437, 3438, 3444, 3447, 3461, 3470, 3480, 3485, 3490, 3510, 3511, 3515, 3518, 3519, 3521, 3523, 3533, 3537, 3547, 3552, 3556, 3559, 3562, 3563, 3564, 3567, 3571, 3574, 3577, 3580, 3587, 3588, 3593, 3594, 3600, 3602, 3603, 3606, 3610, 3612, 3620, 3621, 3624, 3631, 3633, 3640, 3642, 3647, 3660, 3661, 3664, 3666, 3671, 3677, 3685, 3689, 3693, 3699, 3700, 3723, 3733, 3749, 3759, 3761, 3765, 3771, 3772, 3773, 3777, 3778, 3779, 3780, 3782, 3788, 3792, 3795, 3796, 3797, 3800, 3808, 3817, 3822, 3830, 3836, 3839, 3842, 3854, 3857, 3861, 3863, 3866, 3867, 3876, 3878, 3880, 3881, 3882, 3883, 3884, 3889, 3894, 3895, 3896, 3900, 3904, 3905, 3906, 3911, 3915, 3920, 3923, 3926, 3927, 3931, 3934, 3940, 3957, 3961, 3963, 3969, 3976, 3980, 3983, 3988, 3990, 3992, 3996, 4000, 4007, 4009, 4018, 4027, 4043, 4048, 4063, 4064, 4065, 4070, 4077, 4082, 4083, 4096, 4101, 4102, 4107, 4109, 4116, 4120, 4125, 4126, 4133, 4144, 4147, 4148, 4155, 4164, 4170, 4176, 4181, 4182, 4185, 4189, 4196, 4197, 4202, 4203, 4207, 4212, 4215, 4227, 4232, 4236, 4238, 4248, 4249, 4270, 4273, 4278, 4281, 4283, 4285, 4288, 4307, 4309, 4315, 4316, 4326, 4329, 4330, 4331, 4344, 4345, 4346, 4349, 4353, 4354, 4376, 4385, 4386, 4387, 4397, 4407, 4408, 4410, 4414, 4418, 4420, 4421, 4422, 4428, 4429, 4430, 4433, 4437, 4438, 4445, 4448, 4449, 4464, 4466, 4473, 4475, 4484, 4486, 4491, 4507, 4518, 4521, 4523, 4524, 4530, 4539, 4549, 4552, 4558, 4565, 4570, 4577, 4581, 4584, 4587, 4597, 4600, 4613, 4627, 4632, 4638, 4641, 4643, 4657, 4673, 4674, 4677, 4686, 4691, 4692, 4699, 4704, 4720, 4721, 4729, 4730, 4743, 4748, 4749, 4750, 4752, 4755, 4759, 4760, 4764, 4766, 4772, 4782, 4793, 4799, 4805, 4812, 4813, 4819, 4822, 4830, 4831, 4832, 4834, 4836, 4841, 4842, 4850, 4851, 4857, 4867, 4890, 4903, 4909, 4948, 4950, 4955, 4959, 4965, 4970, 4974, 4977, 4989, 4999, 5001, 5007, 5009, 5014, 5025, 5026, 5028, 5031, 5035, 5038, 5040, 5044, 5050, 5051, 5053, 5062, 5071, 5072, 5079, 5085, 5089, 5096, 5102, 5103, 5104, 5106, 5109, 5113, 5127, 5129, 5133, 5134, 5141, 5143, 5151, 5155, 5156, 5168, 5177, 5186, 5187, 5189, 5193, 5197, 5198, 5201, 5207, 5214, 5219, 5222, 5223, 5224, 5226, 5231, 5232, 5239, 5244, 5249, 5250, 5264, 5267, 5269, 5272, 5282, 5291, 5294, 5299, 5301, 5326, 5327, 5330, 5331, 5340, 5344, 5359, 5362, 5370, 5374, 5377, 5379, 5385, 5392, 5405, 5406, 5409, 5411, 5416, 5417, 5418, 5421, 5429, 5431, 5433, 5435, 5451, 5456, 5463, 5471, 5474, 5478, 5480, 5488, 5490, 5492, 5497, 5499, 5501, 5513, 5524, 5529, 5536, 5548, 5549, 5551, 5554, 5555, 5561, 5566, 5574, 5575, 5577, 5585, 5588, 5590, 5594, 5595, 5602, 5605, 5608, 5612, 5625, 5631, 5634, 5642, 5651, 5652, 5660, 5663, 5665, 5666, 5668, 5679, 5680, 5681, 5682, 5685, 5686, 5687, 5691, 5695, 5697, 5698, 5701, 5743, 5747, 5749, 5751, 5755, 5757, 5764, 5766, 5773, 5774, 5787, 5789, 5794, 5808, 5813, 5821, 5824, 5827, 5830, 5832, 5834, 5848, 5855, 5861, 5862, 5863, 5866, 5870, 5874, 5881, 5883, 5888, 5903, 5905, 5909, 5916, 5919, 5925, 5936, 5937, 5938, 5940, 5947, 5956, 5958, 5968, 5971, 5975, 5985, 5986, 6000, 6002, 6004, 6008, 6015, 6016, 6020, 6022, 6024, 6030, 6031, 6035, 6039, 6045, 6046, 6050, 6051, 6058, 6071, 6073, 6074, 6075, 6085, 6091, 6092, 6096, 6097, 6098, 6100, 6104, 6110, 6114, 6116, 6117, 6119, 6123, 6127, 6129, 6130, 6134, 6141, 6142, 6144, 6146, 6147, 6157, 6165, 6167, 6169, 6172, 6173, 6178, 6179, 6180, 6184, 6214, 6217, 6220, 6222, 6224, 6227, 6231, 6232, 6233, 6237, 6248, 6255, 6256, 6265, 6270, 6275, 6278, 6279, 6280, 6281, 6298, 6300, 6303, 6304, 6315, 6330, 6332, 6342, 6359, 6362, 6363, 6366, 6369, 6372, 6379, 6382, 6385, 6387, 6401, 6407, 6416, 6424, 6434, 6439, 6442, 6444, 6447, 6449, 6455, 6457, 6460, 6461, 6465, 6467, 6469, 6472, 6484, 6485, 6486, 6490, 6507, 6509, 6510, 6515, 6519, 6526, 6528, 6541, 6543, 6544, 6545, 6556, 6568, 6569, 6572, 6578, 6590, 6592, 6602, 6611, 6621, 6624, 6625, 6631, 6636, 6644, 6648, 6661, 6666, 6679, 6680, 6690, 6697, 6699, 6700, 6701, 6704, 6707, 6714, 6716, 6717, 6721, 6740, 6746, 6748, 6749, 6751, 6753, 6754, 6761, 6762, 6766, 6767, 6773, 6778, 6782, 6790, 6798, 6800, 6802, 6804, 6810, 6814, 6817, 6826, 6834, 6840, 6845, 6846, 6848, 6862, 6864, 6872, 6873, 6881, 6883, 6886, 6896, 6898, 6903, 6905, 6911, 6914, 6915, 6927, 6934, 6935, 6943, 6948, 6959, 6961, 6967, 6972, 6973, 6974, 6979, 6981, 6985, 6988, 6991, 6994, 7004, 7006, 7024, 7027, 7029, 7033, 7034, 7035, 7040, 7047, 7048, 7064, 7066, 7071, 7073, 7085, 7089, 7100, 7121, 7123, 7125, 7130, 7155, 7160, 7167, 7169, 7173, 7179, 7187, 7191, 7193, 7198, 7202, 7209, 7210, 7218, 7223, 7227, 7234, 7246, 7279, 7281, 7285, 7294, 7297, 7299, 7301, 7311, 7312, 7317, 7324, 7327, 7332, 7343, 7354, 7363, 7388, 7397, 7398, 7403, 7405, 7413, 7426, 7427, 7430, 7452, 7460, 7463, 7465, 7468, 7479, 7481, 7482, 7492, 7493, 7498, 7501, 7503, 7505, 7510, 7522, 7526, 7528, 7529, 7546, 7559, 7562, 7571, 7572, 7573, 7588, 7593, 7602, 7604, 7605, 7607, 7634, 7642, 7643, 7645, 7648, 7657, 7660, 7669, 7695, 7697, 7698, 7701, 7702, 7704, 7707, 7710, 7716, 7719, 7720, 7725, 7726, 7739, 7742, 7746, 7748, 7749, 7751, 7758, 7763, 7768, 7772, 7781, 7789, 7803, 7807, 7809, 7812, 7816, 7819, 7822, 7824, 7825, 7826, 7842, 7850, 7855, 7865, 7872, 7879, 7880, 7888, 7896, 7905, 7941, 7942, 7944, 7951, 7968, 7977, 7982, 7986, 8002, 8025, 8036, 8037, 8040, 8046, 8047, 8048, 8052, 8066, 8069, 8073, 8084, 8085, 8088, 8089, 8091, 8096, 8125, 8128, 8130, 8138, 8156, 8157, 8161, 8166, 8167, 8174, 8176, 8179, 8180, 8184, 8187, 8207, 8211, 8214, 8216, 8218, 8231, 8234, 8238, 8240, 8263, 8269, 8272, 8274, 8280, 8285, 8292, 8293, 8301, 8305, 8310, 8311, 8314, 8316, 8318, 8320, 8321, 8329, 8330, 8332, 8334, 8335, 8336, 8337, 8348, 8351, 8362, 8366, 8367, 8370, 8379, 8381, 8385, 8402, 8406, 8409, 8419, 8431, 8436, 8446, 8447, 8449, 8450, 8451, 8452, 8462, 8463, 8472, 8474, 8499, 8508, 8521, 8522, 8528, 8529, 8531, 8536, 8543, 8555, 8567, 8575, 8577, 8581, 8584, 8599, 8603, 8609, 8625, 8627, 8629, 8632, 8635, 8636, 8662, 8672, 8683, 8686, 8687, 8692, 8694, 8704, 8710, 8711, 8713, 8715, 8717, 8724, 8729, 8730, 8745, 8760, 8764, 8768, 8776, 8781, 8786, 8789, 8792, 8793, 8795, 8799, 8801, 8806, 8822, 8824, 8830, 8840, 8841, 8851, 8853, 8860, 8866, 8872, 8887, 8888, 8893, 8896, 8899, 8912, 8913, 8926, 8933, 8935, 8946, 8947, 8948, 8949, 8954, 8956, 8960, 8961, 8963, 8968, 8972, 8973, 8977, 8978, 8983, 8998, 9000, 9001, 9005, 9014, 9016, 9019, 9024, 9028, 9030, 9049, 9055, 9068, 9070, 9071, 9073, 9074, 9082, 9083, 9084, 9091, 9093, 9102, 9103, 9106, 9108, 9123, 9126, 9131, 9135, 9137, 9140, 9142, 9143, 9147, 9154, 9156, 9164, 9166, 9180, 9200, 9206, 9213, 9220, 9232, 9233, 9245, 9251, 9254, 9259, 9265, 9266, 9274, 9282, 9285, 9290, 9291, 9302, 9303, 9306, 9308, 9311, 9324, 9329, 9342, 9347, 9350, 9351, 9355, 9357, 9364, 9372, 9374, 9375, 9377, 9378, 9390, 9396, 9404, 9414, 9418, 9422, 9425, 9426, 9432, 9433, 9439, 9449, 9458, 9464, 9471, 9476, 9482, 9487, 9493, 9494, 9498, 9501, 9509, 9520, 9529, 9531, 9536, 9538, 9539, 9546, 9549, 9561, 9567, 9568, 9587, 9588, 9592, 9595, 9597, 9602, 9606, 9612, 9613, 9615, 9617, 9623, 9626, 9633, 9634, 9638, 9642, 9643, 9646, 9650, 9658, 9664, 9674, 9676, 9683, 9684, 9686, 9689, 9695, 9703, 9705, 9716, 9722, 9723, 9725, 9731, 9733, 9735, 9736, 9742, 9749, 9769, 9770, 9777, 9778, 9781, 9790, 9791, 9799, 9806, 9807, 9816, 9818, 9824, 9827, 9828, 9831, 9833, 9836, 9839, 9848, 9852, 9854, 9857, 9862, 9863, 9866, 9871, 9872, 9874, 9877, 9879, 9881, 9885, 9890, 9897, 9899, 9904, 9907, 9910, 9924, 9925, 9926, 9936, 9945, 9953, 9956, 9967, 9973, 9987, 9991, 9993, 10002, 10005, 10008, 10009, 10010, 10013, 10015, 10035, 10052, 10060, 10065, 10067, 10073, 10077, 10079, 10098, 10102, 10104, 10105, 10109, 10116, 10124, 10133, 10137, 10139, 10140, 10144, 10150, 10151, 10155, 10159, 10160, 10166, 10172, 10177, 10186, 10192, 10193, 10203, 10210, 10218, 10219, 10231, 10245, 10246, 10248, 10252, 10255, 10264, 10266, 10272, 10276, 10283, 10284, 10286, 10287, 10290, 10291, 10298, 10303, 10310, 10313, 10328, 10337, 10338, 10342, 10350, 10363, 10390, 10394, 10396, 10397, 10401, 10411, 10416, 10417, 10422, 10423, 10424, 10425, 10437, 10444, 10446, 10448, 10455, 10458, 10460, 10465, 10467, 10470, 10476, 10480, 10483, 10489, 10498, 10499, 10518, 10522, 10528, 10530, 10531, 10532, 10538, 10540, 10545, 10546, 10556, 10575, 10576, 10577, 10578, 10582, 10609, 10612, 10615, 10616, 10618, 10624, 10634, 10639, 10658, 10659, 10660, 10661, 10670, 10672, 10673, 10681, 10684, 10688, 10691, 10695, 10700, 10709, 10715, 10716, 10727, 10728, 10737, 10740, 10745, 10750, 10758, 10776, 10777, 10780, 10781, 10787, 10793, 10798, 10801, 10802, 10807, 10811, 10828, 10842, 10864, 10874, 10876, 10879, 10894, 10905, 10908, 10915, 10919, 10927, 10930, 10935, 10941, 10942, 10947, 10948, 10954, 10958, 10963, 10964, 10965, 10966, 10971, 10980, 10989, 10998, 11007, 11008, 11016, 11017, 11021, 11023, 11027, 11039, 11049, 11050, 11059, 11060, 11062, 11071, 11074, 11075, 11087, 11090, 11093, 11099, 11101, 11113, 11114, 11116, 11137, 11143, 11144, 11172, 11180, 11187, 11189, 11196, 11198, 11201, 11205, 11206, 11207, 11211, 11213, 11216, 11219, 11220, 11222, 11227, 11230, 11238, 11245, 11260, 11261, 11264, 11271, 11278, 11280, 11286, 11292, 11294, 11297, 11299, 11308, 11314, 11315, 11316, 11317, 11318, 11321, 11322, 11324, 11330, 11334, 11352, 11355, 11358, 11360, 11370, 11371, 11376, 11381, 11391, 11393, 11410, 11428, 11431, 11435, 11440, 11446, 11456, 11457, 11461, 11464, 11468, 11474, 11478, 11484, 11487, 11499, 11506, 11509, 11512, 11515, 11527, 11532, 11536, 11541, 11543, 11545, 11552, 11559, 11561, 11566, 11567, 11569, 11580, 11581, 11582, 11584, 11589, 11596, 11613, 11615, 11616, 11618, 11619, 11620, 11621, 11622, 11623, 11632, 11637, 11656, 11659, 11663, 11682, 11685, 11688, 11693, 11697, 11701, 11707, 11720, 11723, 11731, 11732, 11734, 11750, 11752, 11754, 11757, 11758, 11759, 11761, 11770, 11773, 11777, 11790, 11793, 11796, 11798, 11811, 11826, 11833, 11837, 11840, 11849, 11853, 11854, 11857, 11865, 11875, 11876, 11881, 11890, 11904, 11905, 11907, 11914, 11924, 11939, 11941, 11946, 11956, 11959, 11962, 11964, 11966, 11967, 11969, 11972, 11974, 11990, 11996, 12011, 12013, 12017, 12024, 12026, 12029, 12031, 12035, 12050, 12052, 12054, 12055, 12064, 12065, 12067, 12077, 12083, 12086, 12090, 12092, 12100, 12103, 12113, 12118, 12119, 12121, 12130, 12132, 12134, 12137, 12142, 12145, 12155, 12159, 12163, 12166, 12173, 12174, 12182, 12187, 12193, 12194, 12200, 12205, 12209, 12216, 12217, 12219, 12225, 12226, 12230, 12243, 12244, 12247, 12250, 12254, 12256, 12262, 12270, 12281, 12291, 12299, 12304, 12306, 12312, 12313, 12315, 12317, 12322, 12326, 12330, 12334, 12335, 12345, 12352, 12354, 12360, 12370, 12374, 12375, 12395, 12406, 12407, 12408, 12416, 12425, 12428, 12435, 12442, 12451, 12455, 12458, 12476, 12479, 12486, 12492, 12500, 12518, 12525, 12529, 12537, 12539, 12552, 12562, 12563, 12564, 12568, 12572, 12574, 12576, 12580, 12589, 12591, 12592, 12597, 12600, 12605, 12615, 12621, 12622, 12624, 12625, 12627, 12636, 12637, 12638, 12668, 12670, 12674, 12685, 12686, 12687, 12693, 12696, 12703, 12707, 12713, 12717, 12719, 12720, 12736, 12739, 12744, 12748, 12749, 12753, 12762, 12781, 12792, 12797, 12799, 12803, 12804, 12806, 12811, 12812, 12827, 12828, 12830, 12837, 12841, 12843, 12856, 12857, 12860, 12861, 12865, 12878, 12880, 12883, 12884, 12891, 12904, 12906, 12908, 12909, 12910, 12918, 12919, 12930, 12932, 12936, 12938, 12939, 12943, 12945, 12946, 12957, 12967, 12975, 12984, 12986, 12991, 12994, 12998, 13001, 13003, 13013, 13015, 13022, 13023, 13025, 13026, 13028, 13030, 13035, 13038, 13041, 13042, 13055, 13060, 13068, 13074, 13077, 13078, 13083, 13090, 13101, 13104, 13107, 13112, 13120, 13121, 13125, 13130, 13131, 13133, 13146, 13161, 13166, 13169, 13170, 13181, 13182, 13193, 13198, 13199, 13203, 13207, 13209, 13210, 13216, 13219, 13227, 13229, 13234, 13236, 13243, 13248, 13255, 13256, 13263, 13274, 13278, 13284, 13285, 13290, 13291, 13295, 13303, 13304, 13321, 13326, 13330, 13341, 13343, 13349, 13353, 13357, 13366, 13367, 13384, 13385, 13390, 13391, 13392, 13411, 13419, 13422, 13425, 13448, 13454, 13457, 13462, 13467, 13470, 13474, 13482, 13483, 13493, 13495, 13497, 13498, 13500, 13504, 13508, 13510, 13512, 13529, 13532, 13535, 13541, 13542, 13543, 13547, 13549, 13557, 13563, 13568, 13577, 13581, 13587, 13600, 13609, 13623, 13633, 13636, 13646, 13651, 13652, 13662, 13664, 13668, 13675, 13677, 13680, 13682, 13691, 13694, 13696, 13701, 13708, 13709, 13711, 13720, 13741, 13762, 13763, 13765, 13766, 13772, 13776, 13777, 13784, 13785, 13786, 13788, 13790, 13791, 13798, 13803, 13804, 13811, 13818, 13820, 13824, 13825, 13830, 13832, 13845, 13848, 13856, 13865, 13866, 13868, 13870, 13871, 13873, 13879, 13880, 13884, 13888, 13892, 13896, 13901, 13907, 13910, 13914, 13916, 13918, 13921, 13922, 13927, 13928, 13935, 13949, 13950, 13952, 13957, 13963, 13965, 13972, 13977, 13989, 14000, 14004, 14005, 14022, 14031, 14044, 14045, 14046, 14047, 14064, 14066, 14068, 14070, 14073, 14076, 14078, 14083, 14088, 14089, 14096, 14097, 14099, 14104, 14105, 14109, 14110, 14118, 14121, 14141, 14144, 14145, 14150, 14155, 14158, 14159, 14166, 14168, 14169, 14178, 14180, 14182, 14190, 14192, 14197, 14198, 14199, 14204, 14207, 14209, 14210, 14217, 14222, 14228, 14230, 14238, 14239, 14247, 14250, 14251, 14255, 14266, 14272, 14285, 14287, 14288, 14289, 14292, 14293, 14295, 14300, 14327, 14329, 14330, 14332, 14334, 14343, 14356, 14361, 14378, 14381, 14384, 14386, 14397, 14399, 14405, 14412, 14415, 14418, 14420, 14421, 14426, 14429, 14473, 14480, 14482, 14491, 14498, 14500, 14505, 14506, 14513, 14518, 14528, 14529, 14536, 14540, 14549, 14552, 14554, 14559, 14561, 14564, 14567, 14570, 14571, 14573, 14574, 14579, 14580, 14583, 14584, 14594, 14602, 14604, 14605, 14606, 14611, 14615, 14620, 14629, 14642, 14648, 14662, 14664, 14673, 14674, 14676, 14687, 14689, 14695, 14701, 14705, 14706, 14711, 14713, 14717, 14718, 14721, 14725, 14727, 14737, 14753, 14756, 14757, 14770, 14774, 14782, 14791, 14795, 14801, 14803, 14809, 14812, 14814, 14821, 14826, 14830, 14832, 14836, 14842, 14844, 14846, 14847, 14849, 14855, 14857, 14860, 14861, 14870, 14877, 14879, 14884, 14885, 14887, 14900, 14903, 14905, 14906, 14911, 14913, 14918, 14938, 14940, 14941, 14942, 14950, 14953, 14955, 14956, 14958, 14969, 14979, 14982, 14987, 14990, 15002, 15012, 15016, 15018, 15020, 15028, 15036, 15055, 15067, 15072, 15075, 15080, 15083, 15085, 15087, 15088, 15095, 15098, 15099, 15100, 15101, 15102, 15106, 15109, 15116, 15121, 15122, 15127, 15131, 15159, 15160, 15165, 15171, 15176, 15179, 15190, 15195, 15201, 15220, 15225, 15229, 15230, 15232, 15238, 15250, 15251, 15252, 15256, 15257, 15259, 15260, 15264, 15265, 15269, 15270, 15271, 15279, 15283, 15284, 15285, 15286, 15296, 15300, 15305, 15309, 15313, 15315, 15317, 15320, 15330, 15331, 15335, 15345, 15352, 15356, 15371, 15372, 15376, 15378, 15382, 15383, 15389, 15390, 15396, 15408, 15409, 15417, 15420, 15424, 15440, 15441, 15452, 15458, 15461, 15469, 15471, 15472, 15477, 15479, 15485, 15486, 15493, 15494, 15496, 15497, 15498, 15503, 15514, 15516, 15521, 15532, 15535, 15543, 15545, 15548, 15549, 15560, 15561, 15567, 15574, 15576, 15579, 15588, 15592, 15593, 15596, 15598, 15600, 15609, 15612, 15622, 15625, 15626, 15627, 15632, 15633, 15641, 15643, 15650, 15652, 15660, 15661, 15662, 15667, 15668, 15672, 15684, 15686, 15690, 15693, 15699, 15706, 15718, 15719, 15734, 15741, 15745, 15748, 15755, 15757, 15760, 15773, 15775, 15779, 15788, 15809, 15817, 15818, 15826, 15828, 15830, 15832, 15836, 15844, 15846, 15853, 15857, 15860, 15869, 15873, 15875, 15880, 15890, 15891, 15892, 15893, 15905, 15906, 15909, 15914, 15918, 15924, 15927, 15928, 15930, 15932, 15933, 15938, 15941, 15944, 15948, 15950, 15955, 15956, 15959, 15960, 15964, 15971, 15975, 15981, 15984, 15995, 15996, 15997, 16004, 16005, 16015, 16018, 16020, 16024, 16044, 16046, 16048, 16050, 16051, 16052, 16053, 16060, 16063, 16067, 16071, 16076, 16079, 16086, 16088, 16092, 16093, 16101, 16103, 16108, 16112, 16113, 16114, 16117, 16120, 16124, 16134, 16136, 16138, 16139, 16142, 16159, 16160, 16164, 16166, 16169, 16178, 16181, 16182, 16183, 16188, 16196, 16197, 16198, 16201, 16210, 16217, 16225, 16227, 16229, 16234, 16235, 16238, 16243, 16248, 16251, 16252, 16255, 16261, 16265, 16270, 16272, 16281, 16284, 16285, 16302, 16310, 16314, 16321, 16323, 16324, 16327, 16334, 16341, 16342, 16345, 16348, 16350, 16352, 16362, 16364, 16365, 16368, 16372, 16377, 16392, 16403, 16404, 16411, 16423, 16425, 16426, 16430, 16437, 16438, 16445, 16454, 16457, 16461, 16464, 16466, 16471, 16474, 16476, 16477, 16486, 16490, 16492, 16494, 16496, 16497, 16498, 16499, 16500, 16508, 16513, 16514, 16520, 16523, 16524, 16543, 16556, 16569, 16571, 16588, 16591, 16593, 16594, 16602, 16604, 16610, 16611, 16613, 16621, 16625, 16634, 16637, 16648, 16651, 16656, 16665, 16682, 16685, 16694, 16697, 16700, 16705, 16712, 16716, 16720, 16744, 16747, 16751, 16762, 16763, 16764, 16776, 16788, 16790, 16795, 16798, 16800, 16801, 16817, 16818, 16835, 16844, 16856, 16861, 16865, 16868, 16870, 16875, 16887, 16893, 16895, 16901, 16902, 16905, 16908, 16916, 16942, 16946, 16950, 16960, 16963, 16971, 16979, 16980, 16981, 16982, 16984, 16985, 16993, 17003, 17004, 17005, 17006, 17015, 17027, 17035, 17045, 17046, 17047, 17048, 17050, 17051, 17054, 17056, 17060, 17069, 17075, 17077, 17092, 17102, 17108, 17113, 17115, 17121, 17127, 17130, 17132, 17146, 17157, 17163, 17168, 17172, 17173, 17181, 17182, 17183, 17187, 17188, 17196, 17197, 17198, 17209, 17211, 17212, 17213, 17227, 17231, 17234, 17237, 17240, 17244, 17245, 17248, 17254, 17259, 17260, 17269, 17273, 17275, 17283, 17286, 17287, 17293, 17299, 17302, 17305, 17308, 17314, 17315, 17316, 17336, 17345, 17346, 17368, 17374, 17377, 17392, 17396, 17400, 17407, 17416, 17420, 17434, 17435, 17438, 17443, 17451, 17454, 17458, 17462, 17464, 17476, 17480, 17488, 17489, 17490, 17494, 17497, 17498, 17500, 17501, 17505, 17516, 17523, 17528, 17532, 17535, 17541, 17544, 17547, 17548, 17557, 17563, 17568, 17571, 17574, 17587, 17591, 17592, 17594, 17596, 17599, 17602, 17609, 17610, 17612, 17613, 17628, 17633, 17639, 17640, 17641, 17644, 17654, 17664, 17665, 17666, 17672, 17675, 17676, 17693, 17702, 17707, 17721, 17724, 17725, 17732, 17734, 17745, 17748, 17754, 17761, 17764, 17766, 17771, 17775, 17795, 17797, 17805, 17816, 17817, 17820, 17821, 17825, 17828, 17831, 17832, 17837, 17842, 17843, 17856, 17876, 17877, 17881, 17885, 17896, 17898, 17900, 17901, 17902, 17903, 17905, 17908, 17920, 17930, 17932, 17937, 17941, 17945, 17950, 17954, 17957, 17962, 17965, 17969, 17981, 17984, 17986, 17987, 17988, 17989, 18006, 18008, 18015, 18021, 18023, 18027, 18032, 18037, 18040, 18041, 18047, 18051, 18052, 18060, 18061, 18073, 18075, 18095, 18097, 18102, 18109, 18111, 18119, 18126, 18141, 18147, 18155, 18157, 18161, 18170, 18172, 18175, 18177, 18186, 18190, 18191, 18193, 18194, 18197, 18201, 18203, 18204, 18209, 18215, 18216, 18223, 18228, 18230, 18232, 18234, 18239, 18240, 18241, 18251, 18266, 18272, 18277, 18278, 18279, 18280, 18286, 18292, 18303, 18313, 18314, 18321, 18331, 18336, 18340, 18342, 18358, 18366, 18367, 18381, 18386, 18387, 18393, 18409, 18413, 18425, 18434, 18439, 18440, 18448, 18451, 18452, 18453, 18455, 18457, 18458, 18463, 18465, 18466, 18473, 18485, 18489, 18491, 18492, 18496, 18498, 18500, 18501, 18514, 18519, 18522, 18528, 18532, 18534, 18536, 18541, 18542, 18544, 18550, 18557, 18560, 18562, 18566, 18569, 18571, 18572, 18575, 18586, 18591, 18595, 18596, 18597, 18607, 18610, 18618, 18619, 18621, 18622, 18627, 18639, 18641, 18649, 18651, 18660, 18662, 18678, 18684, 18685, 18688, 18691, 18693, 18696, 18697, 18703, 18706, 18709, 18711, 18720, 18725, 18728, 18730, 18735, 18736, 18738, 18739, 18755, 18764, 18777, 18787, 18788, 18794, 18796, 18806, 18817, 18820, 18832, 18839, 18847, 18858, 18861, 18864, 18867, 18871, 18886, 18888, 18890, 18893, 18899, 18902, 18908, 18911, 18914, 18925, 18930, 18931, 18932, 18934, 18940, 18943, 18953, 18958, 18975, 18980, 18984, 18990, 18994, 18996, 18997, 19001, 19007, 19011, 19023, 19028, 19031, 19038, 19041, 19045, 19054, 19055, 19059, 19060, 19066, 19068, 19069, 19070, 19071, 19076, 19077, 19078, 19082, 19083, 19084, 19085, 19089, 19097, 19101, 19107, 19112, 19114, 19124, 19126, 19129, 19130, 19132, 19133, 19141, 19143, 19146, 19151, 19152, 19165, 19168, 19170, 19172, 19178, 19179, 19180, 19182, 19187, 19194, 19195, 19201, 19204, 19212, 19216, 19220, 19223, 19228, 19240, 19242, 19246, 19250, 19252, 19263, 19264, 19266, 19270, 19275, 19277, 19281, 19283, 19293, 19296, 19298, 19304, 19324, 19325, 19333, 19335, 19337, 19339, 19348, 19353, 19354, 19369, 19370, 19381, 19382, 19383, 19386, 19388, 19394, 19400, 19433, 19434, 19438, 19445, 19457, 19458, 19459, 19462, 19463, 19472, 19474, 19479, 19483, 19489, 19490, 19492, 19495, 19497, 19498, 19510, 19515, 19519, 19520, 19544, 19548, 19551, 19552, 19553, 19562, 19563, 19566, 19571, 19574, 19576, 19584, 19587, 19595, 19598, 19599, 19600, 19602, 19615, 19617, 19620, 19627, 19633, 19636, 19650, 19653, 19663, 19664, 19665, 19670, 19672, 19676, 19688, 19689, 19691, 19700, 19707, 19708, 19709, 19710, 19712, 19715, 19719, 19733, 19744, 19747, 19748, 19765, 19768, 19770, 19772, 19778, 19780, 19781, 19783, 19790, 19795, 19796, 19797, 19814, 19817, 19819, 19825, 19828, 19829, 19831, 19835, 19841, 19842, 19849, 19858, 19861, 19863, 19865, 19868, 19870, 19872, 19874, 19887, 19895, 19899, 19900, 19909, 19912, 19919, 19920, 19921, 19927, 19928, 19930, 19936, 19937, 19942, 19943, 19945, 19948, 19957, 19965, 19983, 19997, 19998, 20000, 20003, 20004, 20009, 20014, 20015, 20017, 20019, 20025, 20031, 20035, 20036, 20042, 20044, 20049, 20051, 20057, 20061, 20067, 20072, 20073, 20079, 20081, 20082, 20083, 20090, 20095, 20100, 20101, 20105, 20106, 20107, 20114, 20117, 20120, 20125, 20137, 20145, 20152, 20159, 20162, 20164, 20167, 20168, 20170, 20172, 20173, 20176, 20179, 20180, 20181, 20184, 20188, 20201, 20205, 20215, 20231, 20233, 20234, 20241, 20246, 20249, 20250, 20251, 20253, 20254, 20259, 20261, 20268, 20272, 20285, 20309, 20321, 20324, 20327, 20328, 20333, 20338, 20340, 20344, 20347, 20356, 20364, 20370, 20379, 20382, 20390, 20393, 20399, 20407, 20412, 20414, 20416, 20419, 20421, 20424, 20427, 20432, 20434, 20435, 20440, 20457, 20458, 20461, 20462, 20463, 20464, 20467, 20468, 20479, 20480, 20482, 20483, 20484, 20489, 20490, 20492, 20497, 20502, 20504, 20513, 20516, 20518, 20527, 20537, 20540, 20541, 20563, 20568, 20576, 20582, 20583, 20584, 20586, 20592, 20595, 20608, 20610, 20644, 20651, 20654, 20655, 20659, 20661, 20662, 20664, 20668, 20680, 20681, 20682, 20692, 20701, 20702, 20704, 20713, 20716, 20724, 20737, 20739, 20742, 20765, 20766, 20772, 20775, 20788, 20789, 20793, 20800, 20802, 20806, 20807, 20814, 20817, 20818, 20826, 20828, 20829, 20832, 20837, 20841, 20842, 20843, 20849, 20853, 20857, 20858, 20861, 20865, 20868, 20871, 20878, 20879, 20880, 20882, 20889, 20891, 20906, 20908, 20909, 20915, 20917, 20928, 20931, 20933, 20948, 20951, 20953, 20958, 20975, 20982, 20987, 20990, 20992, 20994, 20999, 21005, 21007, 21014, 21019, 21037, 21044, 21047, 21049, 21055, 21056, 21063, 21072, 21084, 21087, 21090, 21095, 21097, 21104, 21110, 21113, 21119, 21121, 21124, 21126, 21131, 21133, 21135, 21136, 21142, 21143, 21148, 21151, 21156, 21157, 21159, 21172, 21174, 21175, 21176, 21183, 21192, 21195, 21198, 21203, 21209, 21213, 21215, 21222, 21224, 21225, 21227, 21231, 21232, 21234, 21243, 21244, 21246, 21248, 21254, 21255, 21258, 21260, 21263, 21281, 21282, 21289, 21290, 21292, 21312, 21320, 21340, 21341, 21343, 21345, 21356, 21367, 21370, 21376, 21377, 21380, 21382, 21387, 21390, 21402, 21408, 21410, 21411, 21419, 21422, 21425, 21427, 21430, 21433, 21434, 21435, 21451, 21457, 21469, 21470, 21473, 21475, 21478, 21481, 21489, 21491, 21501, 21504, 21516, 21518, 21523, 21530, 21537, 21543, 21548, 21561, 21568, 21573, 21595, 21599, 21614, 21616, 21618, 21630, 21631, 21636, 21637, 21641, 21644, 21648, 21654, 21657, 21663, 21669, 21671, 21672, 21686, 21687, 21706, 21710, 21725, 21729, 21739, 21745, 21746, 21749, 21761, 21762, 21763, 21764, 21768, 21775, 21776, 21782, 21805, 21806, 21812, 21814, 21819, 21826, 21828, 21830, 21834, 21835, 21836, 21840, 21842, 21850, 21860, 21865, 21871, 21874, 21879, 21883, 21884, 21892, 21895, 21899, 21907, 21916, 21917, 21920, 21933, 21934, 21944, 21960, 21968, 21972, 21975, 21988, 21990, 21992, 21993, 21998, 22003, 22006, 22011, 22013, 22031, 22035, 22042, 22044, 22046, 22052, 22057, 22060, 22062, 22063, 22068, 22071, 22087, 22103, 22109, 22111, 22121, 22124, 22128, 22130, 22133, 22144, 22153, 22164, 22166, 22177, 22183, 22187, 22194, 22196, 22200, 22207, 22210, 22212, 22217, 22220, 22227, 22228, 22237, 22247, 22254, 22259, 22266, 22268, 22271, 22273, 22280, 22283, 22284, 22286, 22288, 22295, 22306, 22315, 22325, 22328, 22329, 22330, 22340, 22343, 22345, 22348, 22353, 22357, 22362, 22382, 22389, 22393, 22402, 22403, 22411, 22412, 22413, 22418, 22422, 22431, 22452, 22454, 22462, 22471, 22476, 22481, 22486, 22492, 22493, 22495, 22503, 22511, 22518, 22532, 22535, 22536, 22544, 22545, 22556, 22557, 22559, 22565, 22571, 22574, 22575, 22580, 22585, 22586, 22587, 22596, 22600, 22601, 22602, 22622, 22623, 22631, 22635, 22637, 22643, 22650, 22651, 22657, 22658, 22662, 22675, 22683, 22684, 22685, 22697, 22701, 22704, 22708, 22713, 22718, 22731, 22749, 22754, 22759, 22765, 22766, 22768, 22775, 22781, 22787, 22796, 22807, 22829, 22835, 22838, 22840, 22843, 22844, 22845, 22856, 22865, 22866, 22868, 22876, 22895, 22898, 22902, 22907, 22914, 22916, 22918, 22919, 22922, 22923, 22925, 22926, 22930, 22933, 22945, 22951, 22953, 22955, 22970, 22971, 22976, 22977, 22981, 22983, 22984, 22987, 22989, 22995, 23008, 23012, 23017, 23019, 23027, 23029, 23044, 23049, 23051, 23052, 23053, 23054, 23068, 23077, 23087, 23088, 23091, 23100, 23105, 23106, 23111, 23128, 23134, 23142, 23157, 23159, 23164, 23182, 23189, 23190, 23215, 23216, 23222, 23226, 23233, 23234, 23236, 23244, 23246, 23248, 23256, 23257, 23261, 23266, 23276, 23282, 23285, 23288, 23294, 23302, 23303, 23304, 23309, 23310, 23313, 23320, 23327, 23336, 23344, 23354, 23365, 23366, 23368, 23371, 23378, 23381, 23388, 23398, 23399, 23418, 23420, 23421, 23422, 23424, 23426, 23455, 23459, 23460, 23463, 23464, 23465, 23474, 23476, 23480, 23483, 23495, 23497, 23498, 23509, 23512, 23515, 23527, 23528, 23533, 23535, 23536, 23549, 23550, 23552, 23553, 23562, 23571, 23573, 23577, 23578, 23585, 23589, 23590, 23592, 23594, 23595, 23597, 23599, 23604, 23607, 23611, 23616, 23621, 23623, 23628, 23631, 23636, 23639, 23641, 23650, 23651, 23661, 23664, 23665, 23671, 23677, 23678, 23681, 23683, 23709, 23711, 23712, 23722, 23726, 23731, 23735, 23740, 23741, 23742, 23744, 23750, 23755, 23758, 23760, 23769, 23772, 23774, 23778, 23783, 23784, 23790, 23798, 23800, 23815, 23818, 23819, 23825, 23833, 23835, 23836, 23847, 23853, 23860, 23864, 23865, 23868, 23872, 23876, 23877, 23878, 23880, 23888, 23889, 23898, 23900, 23914, 23926, 23932, 23933, 23938, 23943, 23948, 23952, 23956, 23958, 23961, 23980, 23981, 23983, 23991, 23995, 23998, 24003, 24004, 24015, 24017, 24018, 24021, 24027, 24035, 24041, 24042, 24043, 24044, 24052, 24054, 24060, 24061, 24063, 24081, 24084, 24088, 24090, 24095, 24100, 24103, 24104, 24107, 24112, 24132, 24136, 24138, 24140, 24146, 24147, 24155, 24161, 24169, 24172, 24175, 24190, 24191, 24199, 24201, 24205, 24209, 24210, 24211, 24215, 24222, 24230, 24232, 24238, 24240, 24246, 24247, 24248, 24254, 24257, 24259, 24264, 24266, 24270, 24271, 24274, 24279, 24280, 24284, 24286, 24290, 24291, 24296, 24298, 24302, 24306, 24314, 24315, 24316, 24317, 24323, 24328, 24329, 24336, 24337, 24343, 24354, 24356, 24361, 24369, 24370, 24371, 24372, 24384, 24385, 24386, 24395, 24401, 24405, 24407, 24409, 24412, 24415, 24422, 24423, 24427, 24429, 24435, 24439, 24440, 24442, 24447, 24456, 24458, 24468, 24470, 24471, 24473, 24482, 24484, 24485, 24489, 24493, 24498, 24504, 24505, 24507, 24511, 24521, 24523, 24527, 24530, 24534, 24552, 24557, 24560, 24568, 24576, 24588, 24596, 24601, 24602, 24614, 24621, 24628, 24629, 24641, 24643, 24650, 24659, 24663, 24681, 24689, 24690, 24699, 24704, 24713, 24718, 24735, 24737, 24738, 24740, 24744, 24746, 24756, 24759, 24761, 24762, 24763, 24767, 24770, 24774, 24777, 24780, 24787, 24788, 24791, 24793, 24799, 24813, 24835, 24842, 24843, 24847, 24857, 24858, 24863, 24864, 24874, 24875, 24876, 24880, 24888, 24891, 24892, 24894, 24899, 24902, 24903, 24910, 24911, 24914, 24921, 24922, 24923, 24924, 24925, 24926, 24933, 24939, 24940, 24945, 24946, 24961, 24966, 24968, 24970, 24975, 24987, 24990, 24994, 25007, 25012, 25017, 25025, 25026, 25036, 25053, 25068, 25070, 25071, 25072, 25078, 25097, 25098, 25102, 25106, 25118, 25125, 25126, 25145, 25158, 25161, 25163, 25173, 25186, 25188, 25189, 25195, 25202, 25212, 25219, 25225, 25238, 25242, 25246, 25256, 25259, 25264, 25266, 25270, 25273, 25279, 25282, 25283, 25287, 25290, 25295, 25296, 25297, 25300, 25302, 25303, 25305, 25306, 25307, 25315, 25319, 25321, 25327, 25336, 25337, 25338, 25351, 25352, 25354, 25368, 25372, 25378, 25380, 25392, 25395, 25397, 25404, 25405, 25416, 25419, 25421, 25424, 25427, 25434, 25436, 25437, 25438, 25441, 25442, 25444, 25445, 25454, 25456, 25457, 25462, 25465, 25476, 25479, 25481, 25491, 25492, 25496, 25498, 25504, 25509, 25514, 25516, 25522, 25526, 25527, 25528, 25537, 25544, 25548, 25549, 25551, 25554, 25558, 25560, 25568, 25569, 25573, 25578, 25591, 25597, 25600, 25605, 25607, 25610, 25612, 25614, 25623, 25628, 25631, 25633, 25635, 25641, 25657, 25659, 25662, 25668, 25676, 25687, 25691, 25697, 25702, 25707, 25710, 25712, 25718, 25724, 25728, 25731, 25732, 25736, 25750, 25758, 25762, 25764, 25772, 25777, 25786, 25789, 25795, 25800, 25802, 25803, 25809, 25811, 25812, 25813, 25814, 25815, 25819, 25825, 25828, 25830, 25837, 25839, 25846, 25847, 25849, 25853, 25861, 25866, 25867, 25868, 25871, 25875, 25876, 25877, 25884, 25886, 25890, 25893, 25902, 25910, 25912, 25914, 25919, 25921, 25930, 25932, 25950, 25958, 25959, 25963, 25971, 25973, 25976, 25979, 25981, 25985, 25989, 25992, 25993, 25995, 25996, 26001, 26004, 26010, 26012, 26014, 26029, 26033, 26034, 26038, 26059, 26060, 26067, 26068, 26073, 26083, 26084, 26089, 26093, 26105, 26110, 26113, 26130, 26138, 26150, 26151, 26154, 26155, 26159, 26163, 26166, 26172, 26174, 26177, 26180, 26187, 26188, 26194, 26206, 26229, 26230, 26232, 26237, 26242, 26246, 26248, 26249, 26260, 26262, 26275, 26287, 26296, 26304, 26308, 26309, 26312, 26318, 26323, 26327, 26332, 26334, 26336, 26347, 26348, 26358, 26360, 26366, 26378, 26379, 26381, 26383, 26405, 26407, 26411, 26414, 26422, 26431, 26441, 26442, 26453, 26458, 26462, 26464, 26467, 26478, 26482, 26486, 26493, 26498, 26500, 26501, 26502, 26503, 26506, 26512, 26513, 26522, 26532, 26534, 26539, 26541, 26546, 26547, 26549, 26551, 26552, 26560, 26567, 26586, 26587, 26589, 26605, 26606, 26608, 26612, 26618, 26621, 26625, 26631, 26634, 26635, 26638, 26641, 26644, 26654, 26665, 26667, 26673, 26677, 26678, 26681, 26691, 26696, 26707, 26708, 26712, 26713, 26722, 26724, 26725, 26726, 26727, 26729, 26731, 26732, 26745, 26749, 26763, 26767, 26769, 26775, 26777, 26778, 26782, 26792, 26794, 26795, 26799, 26803, 26816, 26822, 26830, 26832, 26833, 26848, 26858, 26860, 26861, 26871, 26888, 26889, 26890, 26894, 26902, 26903, 26909, 26914, 26923, 26928, 26942, 26951, 26958, 26964, 26973, 26975, 26977, 26978, 26980, 26982, 26989, 26996, 26999, 27007, 27017, 27018, 27019, 27020, 27022, 27023, 27024, 27029, 27041, 27045, 27059, 27060, 27062, 27067, 27073, 27077, 27079, 27081, 27100, 27102, 27107, 27113, 27114, 27118, 27124, 27125, 27133, 27135, 27136, 27140, 27152, 27157, 27168, 27172, 27176, 27182, 27188, 27193, 27194, 27195, 27205, 27212, 27219, 27223, 27224, 27225, 27226, 27229, 27230, 27247, 27257, 27259, 27260, 27262, 27267, 27272, 27273, 27289, 27290, 27310, 27314, 27317, 27323, 27331, 27334, 27339, 27342, 27349, 27363, 27368, 27373, 27376, 27378, 27402, 27404, 27410, 27413, 27414, 27417, 27420, 27421, 27422, 27428, 27434, 27435, 27438, 27440, 27445, 27449, 27461, 27462, 27466, 27471, 27475, 27478, 27479, 27487, 27489, 27495, 27497, 27503, 27504, 27507, 27508, 27515, 27518, 27519, 27550, 27554, 27556, 27566, 27567, 27571, 27572, 27574, 27575, 27578, 27579, 27582, 27585, 27587, 27595, 27596, 27601, 27602, 27605, 27607, 27608, 27609, 27613, 27614, 27617, 27629, 27642, 27644, 27645, 27648, 27652, 27654, 27662, 27670, 27678, 27684, 27687, 27691, 27692, 27697, 27702, 27710, 27711, 27721, 27723, 27724, 27738, 27741, 27747, 27750, 27752, 27770, 27771, 27775, 27776, 27785, 27788, 27795, 27797, 27810, 27820, 27823, 27831, 27837, 27838, 27844, 27856, 27858, 27861, 27863, 27866, 27867, 27874, 27875, 27883, 27886, 27888, 27903, 27907, 27908, 27915, 27918, 27925, 27926, 27928, 27935, 27939, 27947, 27954, 27963, 27965, 27970, 27971, 27978, 27979, 27980, 27982, 27987, 27988, 27993, 27995, 27996, 28005, 28009, 28015, 28020, 28027, 28033, 28040, 28043, 28051, 28056, 28058, 28061, 28063, 28075, 28078, 28098, 28100, 28103, 28112, 28139, 28143, 28145, 28148, 28151, 28153, 28159, 28161, 28164, 28171, 28176, 28184, 28207, 28208, 28209, 28210, 28220, 28224, 28226, 28232, 28250, 28256, 28259, 28264, 28266, 28270, 28286, 28290, 28292, 28294, 28296, 28307, 28308, 28310, 28323, 28325, 28333, 28334, 28336, 28340, 28342, 28348, 28349, 28354, 28358, 28359, 28360, 28363, 28364, 28365, 28368, 28369, 28371, 28372, 28374, 28387, 28402, 28406, 28407, 28419, 28425, 28437, 28441, 28444, 28445, 28446, 28449, 28452, 28457, 28463, 28469, 28472, 28474, 28475, 28476, 28481, 28489, 28495, 28501, 28507, 28511, 28513, 28514, 28524, 28530, 28532, 28543, 28544, 28548, 28552, 28555, 28558, 28560, 28561, 28564, 28569, 28583, 28588, 28603, 28604, 28605, 28622, 28627, 28629, 28636, 28640, 28645, 28649, 28661, 28663, 28669, 28681, 28687, 28695, 28697, 28699, 28701, 28704, 28705, 28712, 28715, 28716, 28717, 28721, 28725, 28729, 28730, 28732, 28735, 28736, 28738, 28740, 28751, 28758, 28765, 28767, 28772, 28774, 28783, 28791, 28805, 28815, 28819, 28829, 28837, 28838, 28842, 28847, 28849, 28851, 28853, 28858, 28869, 28874, 28880, 28885, 28901, 28910, 28912, 28918, 28919, 28922, 28925, 28929, 28939, 28946, 28948, 28953, 28963, 28969, 28971, 28974, 28987, 28997, 29006, 29007, 29013, 29025, 29046, 29053, 29062, 29069, 29075, 29078, 29083, 29090, 29092, 29097, 29119, 29121, 29124, 29131, 29141, 29144, 29148, 29158, 29160, 29163, 29166, 29173, 29176, 29177, 29181, 29192, 29198, 29206, 29211, 29214, 29222, 29230, 29236, 29245, 29246, 29247, 29248, 29254, 29257, 29262, 29266, 29273, 29278, 29285, 29291, 29292, 29295, 29298, 29312, 29322, 29324, 29328, 29332, 29340, 29341, 29351, 29356, 29360, 29362, 29369, 29370, 29381, 29384, 29390, 29392, 29395, 29401, 29402, 29413, 29416, 29425, 29427, 29429, 29430, 29434, 29441, 29443, 29446, 29455, 29464, 29466, 29487, 29497, 29518, 29526, 29541, 29558, 29573, 29574, 29587, 29594, 29601, 29605, 29607, 29610, 29622, 29623, 29628, 29632, 29634, 29652, 29657, 29659, 29662, 29663, 29664, 29667, 29668, 29676, 29680, 29694, 29698, 29710, 29722, 29724, 29727, 29737, 29744, 29745, 29746, 29751, 29752, 29755, 29760, 29766, 29771, 29773, 29776, 29782, 29791, 29801, 29804, 29805, 29811, 29814, 29819, 29828, 29830, 29834, 29836, 29839, 29850, 29853, 29855, 29856, 29859, 29872, 29874, 29880, 29881, 29892, 29898, 29902, 29923, 29931, 29932, 29934, 29939, 29942, 29954, 29956, 29958, 29964, 29971, 29981, 29997, 30011, 30022, 30030, 30034, 30042, 30044, 30048, 30049, 30052, 30057, 30058, 30078, 30080, 30082, 30083, 30084, 30088, 30092, 30093, 30094, 30099, 30103, 30104, 30105, 30106, 30119, 30123, 30124, 30141, 30143, 30145, 30148, 30157, 30162, 30167, 30178, 30182, 30188, 30189, 30191, 30194, 30201, 30211, 30212, 30214, 30216, 30217, 30219, 30224, 30227, 30231, 30233, 30234, 30248, 30249, 30250, 30254, 30255, 30258, 30263, 30266, 30268, 30274, 30284, 30286, 30287, 30293, 30295, 30303, 30305, 30311, 30314, 30325, 30326, 30331, 30336, 30340, 30351, 30352, 30358, 30363, 30365, 30377, 30389, 30391, 30394, 30397, 30398, 30399, 30403, 30410, 30420, 30422, 30426, 30431, 30436, 30438, 30441, 30447, 30458, 30462, 30487, 30488, 30496, 30502, 30506, 30511, 30522, 30530, 30531, 30558, 30560, 30561, 30569, 30585, 30588, 30592, 30600, 30610, 30617, 30620, 30623, 30627, 30628, 30630, 30632, 30645, 30646, 30659, 30661, 30664, 30671, 30679, 30687, 30693, 30700, 30701, 30713, 30720, 30728, 30731, 30741, 30744, 30747, 30753, 30761, 30768, 30775, 30779, 30781, 30784, 30788, 30807, 30811, 30815, 30820, 30827, 30828, 30840, 30843, 30852, 30856, 30857, 30860, 30862, 30869, 30870, 30873, 30876, 30882, 30883, 30884, 30885, 30892, 30908, 30912, 30918, 30919, 30926, 30931, 30936, 30947, 30951, 30952, 30954, 30965, 30966, 30969, 30974, 30980, 30982, 30985, 30988, 30993, 30994, 31001, 31006, 31007, 31012, 31015, 31020, 31022, 31024, 31025, 31030, 31031, 31033, 31041, 31043, 31044, 31055, 31062, 31063, 31065, 31066, 31083, 31086, 31095, 31096, 31097, 31106, 31118, 31124, 31125, 31128, 31130, 31141, 31142, 31149, 31150, 31152, 31153, 31162, 31167, 31170, 31178, 31180, 31189, 31194, 31197, 31205, 31206, 31216, 31220, 31227, 31239, 31241, 31245, 31247, 31256, 31270, 31271, 31276, 31283, 31288, 31290, 31293, 31302, 31306, 31311, 31321, 31334, 31342, 31346, 31348, 31356, 31364, 31367, 31369, 31372, 31376, 31379, 31383, 31388, 31390, 31392, 31395, 31403, 31411, 31417, 31426, 31430, 31431, 31432, 31435, 31442, 31444, 31445, 31447, 31450, 31452, 31467, 31475, 31480, 31505, 31513, 31522, 31524, 31528, 31530, 31535, 31538, 31540, 31561, 31565, 31577, 31580, 31591, 31592, 31594, 31604, 31620, 31621, 31622, 31625, 31626, 31628, 31629, 31635, 31639, 31642, 31643, 31654, 31656, 31657, 31661, 31662, 31664, 31666, 31668, 31669, 31674, 31678, 31682, 31685, 31694, 31696, 31705, 31709, 31710, 31711, 31722, 31731, 31732, 31734, 31737, 31745, 31762, 31764, 31774, 31775, 31776, 31780, 31783, 31788, 31793, 31795, 31799, 31803, 31806, 31807, 31808, 31809, 31814, 31815, 31823, 31824, 31836, 31840, 31843, 31844, 31848, 31850, 31855, 31875, 31876, 31878, 31880, 31881, 31891, 31892, 31894, 31899, 31904, 31908, 31912, 31922, 31923, 31927, 31940, 31941, 31947, 31952, 31966, 31997, 31998, 32001, 32003, 32007, 32008, 32013, 32016, 32023, 32024, 32033, 32034, 32038, 32043, 32047, 32052, 32056, 32058, 32059, 32060, 32061, 32073, 32076, 32083, 32086, 32089, 32090, 32093, 32099, 32102, 32107, 32113, 32116, 32125, 32133, 32134, 32144, 32153, 32162, 32165, 32179, 32185, 32186, 32192, 32193, 32198, 32203, 32206, 32208, 32215, 32225, 32226, 32244, 32257, 32258, 32259, 32262, 32270, 32277, 32278, 32283, 32287, 32291, 32300, 32301, 32303, 32311, 32317, 32319, 32321, 32340, 32341, 32343, 32350, 32351, 32360, 32361, 32362, 32367, 32370, 32372, 32375, 32381, 32384, 32386, 32390, 32391, 32396, 32400, 32401, 32412, 32415, 32423, 32429, 32430, 32431, 32438, 32441, 32444, 32445, 32446, 32448, 32459, 32460, 32463, 32465, 32467, 32469, 32479, 32481, 32487, 32489, 32490, 32494, 32498, 32501, 32515, 32518, 32522, 32525, 32533, 32539, 32542, 32548, 32554, 32558, 32560]\n"
     ]
    }
   ],
   "source": [
    "print(lista_idade)"
   ]
  },
  {
   "cell_type": "code",
   "execution_count": 51,
   "id": "79da3098",
   "metadata": {},
   "outputs": [
    {
     "data": {
      "text/plain": [
       "3        53\n",
       "7        52\n",
       "21       54\n",
       "24       59\n",
       "25       56\n",
       "         ..\n",
       "32542    72\n",
       "32548    65\n",
       "32554    53\n",
       "32558    58\n",
       "32560    52\n",
       "Name: age, Length: 6460, dtype: int64"
      ]
     },
     "execution_count": 51,
     "metadata": {},
     "output_type": "execute_result"
    }
   ],
   "source": [
    "serie_idade.iloc[lista_idade]"
   ]
  },
  {
   "cell_type": "markdown",
   "id": "e8c9e242",
   "metadata": {},
   "source": [
    "## Acesso aos dados com loc\n",
    "- Acessar elementos por \"string\""
   ]
  },
  {
   "cell_type": "code",
   "execution_count": null,
   "id": "c006ed69",
   "metadata": {},
   "outputs": [],
   "source": []
  }
 ],
 "metadata": {
  "kernelspec": {
   "display_name": ".venv",
   "language": "python",
   "name": "python3"
  },
  "language_info": {
   "codemirror_mode": {
    "name": "ipython",
    "version": 3
   },
   "file_extension": ".py",
   "mimetype": "text/x-python",
   "name": "python",
   "nbconvert_exporter": "python",
   "pygments_lexer": "ipython3",
   "version": "3.12.12"
  }
 },
 "nbformat": 4,
 "nbformat_minor": 5
}
